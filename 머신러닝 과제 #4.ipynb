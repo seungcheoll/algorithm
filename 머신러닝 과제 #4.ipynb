{
 "cells": [
  {
   "cell_type": "code",
   "execution_count": null,
   "id": "04990282",
   "metadata": {},
   "outputs": [],
   "source": [
    "knn"
   ]
  },
  {
   "cell_type": "code",
   "execution_count": 306,
   "id": "bdbe355e",
   "metadata": {},
   "outputs": [],
   "source": [
    "import pandas as pd"
   ]
  },
  {
   "cell_type": "code",
   "execution_count": 307,
   "id": "8f1c4859",
   "metadata": {},
   "outputs": [],
   "source": [
    "df=pd.read_csv(\"c:/Datav/Pima.csv\")"
   ]
  },
  {
   "cell_type": "code",
   "execution_count": 308,
   "id": "f9fb2ad0",
   "metadata": {},
   "outputs": [
    {
     "data": {
      "text/html": [
       "<div>\n",
       "<style scoped>\n",
       "    .dataframe tbody tr th:only-of-type {\n",
       "        vertical-align: middle;\n",
       "    }\n",
       "\n",
       "    .dataframe tbody tr th {\n",
       "        vertical-align: top;\n",
       "    }\n",
       "\n",
       "    .dataframe thead th {\n",
       "        text-align: right;\n",
       "    }\n",
       "</style>\n",
       "<table border=\"1\" class=\"dataframe\">\n",
       "  <thead>\n",
       "    <tr style=\"text-align: right;\">\n",
       "      <th></th>\n",
       "      <th>npreg</th>\n",
       "      <th>glu</th>\n",
       "      <th>bp</th>\n",
       "      <th>skin</th>\n",
       "      <th>bmi</th>\n",
       "      <th>ped</th>\n",
       "      <th>age</th>\n",
       "      <th>type</th>\n",
       "    </tr>\n",
       "  </thead>\n",
       "  <tbody>\n",
       "    <tr>\n",
       "      <th>0</th>\n",
       "      <td>5</td>\n",
       "      <td>86</td>\n",
       "      <td>68</td>\n",
       "      <td>28</td>\n",
       "      <td>30.2</td>\n",
       "      <td>0.364</td>\n",
       "      <td>24</td>\n",
       "      <td>No</td>\n",
       "    </tr>\n",
       "    <tr>\n",
       "      <th>1</th>\n",
       "      <td>7</td>\n",
       "      <td>195</td>\n",
       "      <td>70</td>\n",
       "      <td>33</td>\n",
       "      <td>25.1</td>\n",
       "      <td>0.163</td>\n",
       "      <td>55</td>\n",
       "      <td>Yes</td>\n",
       "    </tr>\n",
       "    <tr>\n",
       "      <th>2</th>\n",
       "      <td>5</td>\n",
       "      <td>77</td>\n",
       "      <td>82</td>\n",
       "      <td>41</td>\n",
       "      <td>35.8</td>\n",
       "      <td>0.156</td>\n",
       "      <td>35</td>\n",
       "      <td>No</td>\n",
       "    </tr>\n",
       "    <tr>\n",
       "      <th>3</th>\n",
       "      <td>0</td>\n",
       "      <td>165</td>\n",
       "      <td>76</td>\n",
       "      <td>43</td>\n",
       "      <td>47.9</td>\n",
       "      <td>0.259</td>\n",
       "      <td>26</td>\n",
       "      <td>No</td>\n",
       "    </tr>\n",
       "    <tr>\n",
       "      <th>4</th>\n",
       "      <td>0</td>\n",
       "      <td>107</td>\n",
       "      <td>60</td>\n",
       "      <td>25</td>\n",
       "      <td>26.4</td>\n",
       "      <td>0.133</td>\n",
       "      <td>23</td>\n",
       "      <td>No</td>\n",
       "    </tr>\n",
       "    <tr>\n",
       "      <th>...</th>\n",
       "      <td>...</td>\n",
       "      <td>...</td>\n",
       "      <td>...</td>\n",
       "      <td>...</td>\n",
       "      <td>...</td>\n",
       "      <td>...</td>\n",
       "      <td>...</td>\n",
       "      <td>...</td>\n",
       "    </tr>\n",
       "    <tr>\n",
       "      <th>527</th>\n",
       "      <td>2</td>\n",
       "      <td>88</td>\n",
       "      <td>58</td>\n",
       "      <td>26</td>\n",
       "      <td>28.4</td>\n",
       "      <td>0.766</td>\n",
       "      <td>22</td>\n",
       "      <td>No</td>\n",
       "    </tr>\n",
       "    <tr>\n",
       "      <th>528</th>\n",
       "      <td>9</td>\n",
       "      <td>170</td>\n",
       "      <td>74</td>\n",
       "      <td>31</td>\n",
       "      <td>44.0</td>\n",
       "      <td>0.403</td>\n",
       "      <td>43</td>\n",
       "      <td>Yes</td>\n",
       "    </tr>\n",
       "    <tr>\n",
       "      <th>529</th>\n",
       "      <td>10</td>\n",
       "      <td>101</td>\n",
       "      <td>76</td>\n",
       "      <td>48</td>\n",
       "      <td>32.9</td>\n",
       "      <td>0.171</td>\n",
       "      <td>63</td>\n",
       "      <td>No</td>\n",
       "    </tr>\n",
       "    <tr>\n",
       "      <th>530</th>\n",
       "      <td>5</td>\n",
       "      <td>121</td>\n",
       "      <td>72</td>\n",
       "      <td>23</td>\n",
       "      <td>26.2</td>\n",
       "      <td>0.245</td>\n",
       "      <td>30</td>\n",
       "      <td>No</td>\n",
       "    </tr>\n",
       "    <tr>\n",
       "      <th>531</th>\n",
       "      <td>1</td>\n",
       "      <td>93</td>\n",
       "      <td>70</td>\n",
       "      <td>31</td>\n",
       "      <td>30.4</td>\n",
       "      <td>0.315</td>\n",
       "      <td>23</td>\n",
       "      <td>No</td>\n",
       "    </tr>\n",
       "  </tbody>\n",
       "</table>\n",
       "<p>532 rows × 8 columns</p>\n",
       "</div>"
      ],
      "text/plain": [
       "     npreg  glu  bp  skin   bmi    ped  age type\n",
       "0        5   86  68    28  30.2  0.364   24   No\n",
       "1        7  195  70    33  25.1  0.163   55  Yes\n",
       "2        5   77  82    41  35.8  0.156   35   No\n",
       "3        0  165  76    43  47.9  0.259   26   No\n",
       "4        0  107  60    25  26.4  0.133   23   No\n",
       "..     ...  ...  ..   ...   ...    ...  ...  ...\n",
       "527      2   88  58    26  28.4  0.766   22   No\n",
       "528      9  170  74    31  44.0  0.403   43  Yes\n",
       "529     10  101  76    48  32.9  0.171   63   No\n",
       "530      5  121  72    23  26.2  0.245   30   No\n",
       "531      1   93  70    31  30.4  0.315   23   No\n",
       "\n",
       "[532 rows x 8 columns]"
      ]
     },
     "execution_count": 308,
     "metadata": {},
     "output_type": "execute_result"
    }
   ],
   "source": [
    "df"
   ]
  },
  {
   "cell_type": "code",
   "execution_count": 309,
   "id": "4d157963",
   "metadata": {},
   "outputs": [
    {
     "data": {
      "text/plain": [
       "Index(['npreg', 'glu', 'bp', 'skin', 'bmi', 'ped', 'age', 'type'], dtype='object')"
      ]
     },
     "execution_count": 309,
     "metadata": {},
     "output_type": "execute_result"
    }
   ],
   "source": [
    "df.columns"
   ]
  },
  {
   "cell_type": "code",
   "execution_count": 310,
   "id": "20825f09",
   "metadata": {},
   "outputs": [],
   "source": [
    "feature=['npreg', 'glu', 'bp', 'skin', 'bmi', 'ped', 'age']\n",
    "\n",
    "X=df[feature]\n",
    "y=df['type']"
   ]
  },
  {
   "cell_type": "code",
   "execution_count": 311,
   "id": "80178021",
   "metadata": {},
   "outputs": [
    {
     "data": {
      "text/plain": [
       "type\n",
       "No     355\n",
       "Yes    177\n",
       "Name: type, dtype: int64"
      ]
     },
     "execution_count": 311,
     "metadata": {},
     "output_type": "execute_result"
    }
   ],
   "source": [
    "y.groupby(y).count()"
   ]
  },
  {
   "cell_type": "code",
   "execution_count": 312,
   "id": "00a33cfe",
   "metadata": {},
   "outputs": [],
   "source": [
    "from sklearn.model_selection import train_test_split\n",
    "X_tn,X_te,y_tn,y_te=train_test_split(X,y,stratify=y,test_size=0.1,random_state=0)"
   ]
  },
  {
   "cell_type": "code",
   "execution_count": 313,
   "id": "1ea41f1c",
   "metadata": {},
   "outputs": [],
   "source": [
    "from sklearn.preprocessing import StandardScaler\n",
    "st=StandardScaler()\n",
    "st.fit(X_tn)\n",
    "X_tn_st=st.transform(X_tn)\n",
    "X_te_st=st.transform(X_te)"
   ]
  },
  {
   "cell_type": "code",
   "execution_count": 314,
   "id": "36609f1b",
   "metadata": {},
   "outputs": [
    {
     "data": {
      "text/html": [
       "<style>#sk-container-id-85 {color: black;}#sk-container-id-85 pre{padding: 0;}#sk-container-id-85 div.sk-toggleable {background-color: white;}#sk-container-id-85 label.sk-toggleable__label {cursor: pointer;display: block;width: 100%;margin-bottom: 0;padding: 0.3em;box-sizing: border-box;text-align: center;}#sk-container-id-85 label.sk-toggleable__label-arrow:before {content: \"▸\";float: left;margin-right: 0.25em;color: #696969;}#sk-container-id-85 label.sk-toggleable__label-arrow:hover:before {color: black;}#sk-container-id-85 div.sk-estimator:hover label.sk-toggleable__label-arrow:before {color: black;}#sk-container-id-85 div.sk-toggleable__content {max-height: 0;max-width: 0;overflow: hidden;text-align: left;background-color: #f0f8ff;}#sk-container-id-85 div.sk-toggleable__content pre {margin: 0.2em;color: black;border-radius: 0.25em;background-color: #f0f8ff;}#sk-container-id-85 input.sk-toggleable__control:checked~div.sk-toggleable__content {max-height: 200px;max-width: 100%;overflow: auto;}#sk-container-id-85 input.sk-toggleable__control:checked~label.sk-toggleable__label-arrow:before {content: \"▾\";}#sk-container-id-85 div.sk-estimator input.sk-toggleable__control:checked~label.sk-toggleable__label {background-color: #d4ebff;}#sk-container-id-85 div.sk-label input.sk-toggleable__control:checked~label.sk-toggleable__label {background-color: #d4ebff;}#sk-container-id-85 input.sk-hidden--visually {border: 0;clip: rect(1px 1px 1px 1px);clip: rect(1px, 1px, 1px, 1px);height: 1px;margin: -1px;overflow: hidden;padding: 0;position: absolute;width: 1px;}#sk-container-id-85 div.sk-estimator {font-family: monospace;background-color: #f0f8ff;border: 1px dotted black;border-radius: 0.25em;box-sizing: border-box;margin-bottom: 0.5em;}#sk-container-id-85 div.sk-estimator:hover {background-color: #d4ebff;}#sk-container-id-85 div.sk-parallel-item::after {content: \"\";width: 100%;border-bottom: 1px solid gray;flex-grow: 1;}#sk-container-id-85 div.sk-label:hover label.sk-toggleable__label {background-color: #d4ebff;}#sk-container-id-85 div.sk-serial::before {content: \"\";position: absolute;border-left: 1px solid gray;box-sizing: border-box;top: 0;bottom: 0;left: 50%;z-index: 0;}#sk-container-id-85 div.sk-serial {display: flex;flex-direction: column;align-items: center;background-color: white;padding-right: 0.2em;padding-left: 0.2em;position: relative;}#sk-container-id-85 div.sk-item {position: relative;z-index: 1;}#sk-container-id-85 div.sk-parallel {display: flex;align-items: stretch;justify-content: center;background-color: white;position: relative;}#sk-container-id-85 div.sk-item::before, #sk-container-id-85 div.sk-parallel-item::before {content: \"\";position: absolute;border-left: 1px solid gray;box-sizing: border-box;top: 0;bottom: 0;left: 50%;z-index: -1;}#sk-container-id-85 div.sk-parallel-item {display: flex;flex-direction: column;z-index: 1;position: relative;background-color: white;}#sk-container-id-85 div.sk-parallel-item:first-child::after {align-self: flex-end;width: 50%;}#sk-container-id-85 div.sk-parallel-item:last-child::after {align-self: flex-start;width: 50%;}#sk-container-id-85 div.sk-parallel-item:only-child::after {width: 0;}#sk-container-id-85 div.sk-dashed-wrapped {border: 1px dashed gray;margin: 0 0.4em 0.5em 0.4em;box-sizing: border-box;padding-bottom: 0.4em;background-color: white;}#sk-container-id-85 div.sk-label label {font-family: monospace;font-weight: bold;display: inline-block;line-height: 1.2em;}#sk-container-id-85 div.sk-label-container {text-align: center;}#sk-container-id-85 div.sk-container {/* jupyter's `normalize.less` sets `[hidden] { display: none; }` but bootstrap.min.css set `[hidden] { display: none !important; }` so we also need the `!important` here to be able to override the default hidden behavior on the sphinx rendered scikit-learn.org. See: https://github.com/scikit-learn/scikit-learn/issues/21755 */display: inline-block !important;position: relative;}#sk-container-id-85 div.sk-text-repr-fallback {display: none;}</style><div id=\"sk-container-id-85\" class=\"sk-top-container\"><div class=\"sk-text-repr-fallback\"><pre>KNeighborsClassifier(metric=&#x27;manhattan&#x27;)</pre><b>In a Jupyter environment, please rerun this cell to show the HTML representation or trust the notebook. <br />On GitHub, the HTML representation is unable to render, please try loading this page with nbviewer.org.</b></div><div class=\"sk-container\" hidden><div class=\"sk-item\"><div class=\"sk-estimator sk-toggleable\"><input class=\"sk-toggleable__control sk-hidden--visually\" id=\"sk-estimator-id-85\" type=\"checkbox\" checked><label for=\"sk-estimator-id-85\" class=\"sk-toggleable__label sk-toggleable__label-arrow\">KNeighborsClassifier</label><div class=\"sk-toggleable__content\"><pre>KNeighborsClassifier(metric=&#x27;manhattan&#x27;)</pre></div></div></div></div></div>"
      ],
      "text/plain": [
       "KNeighborsClassifier(metric='manhattan')"
      ]
     },
     "execution_count": 314,
     "metadata": {},
     "output_type": "execute_result"
    }
   ],
   "source": [
    "from sklearn.neighbors import KNeighborsClassifier\n",
    "cl_knn=KNeighborsClassifier(n_neighbors=5,metric = 'manhattan')\n",
    "cl_knn.fit(X_tn_st, y_tn)"
   ]
  },
  {
   "cell_type": "code",
   "execution_count": 315,
   "id": "8f5eb89e",
   "metadata": {},
   "outputs": [
    {
     "name": "stdout",
     "output_type": "stream",
     "text": [
      "['No' 'No' 'Yes' 'No' 'No' 'No' 'Yes' 'No' 'Yes' 'No' 'No' 'No' 'No' 'Yes'\n",
      " 'Yes' 'Yes' 'No' 'Yes' 'No' 'No' 'No' 'Yes' 'No' 'No' 'Yes' 'Yes' 'No'\n",
      " 'No' 'No' 'No' 'No' 'Yes' 'No' 'No' 'No' 'No' 'Yes' 'No' 'Yes' 'No' 'No'\n",
      " 'No' 'No' 'Yes' 'No' 'No' 'Yes' 'Yes' 'No' 'No' 'No' 'No' 'No' 'No']\n"
     ]
    }
   ],
   "source": [
    "knn_pred=cl_knn.predict(X_te_st)\n",
    "print(knn_pred)"
   ]
  },
  {
   "cell_type": "code",
   "execution_count": 316,
   "id": "5a834148",
   "metadata": {},
   "outputs": [
    {
     "name": "stdout",
     "output_type": "stream",
     "text": [
      "0.8148148148148148 0.7960526315789473 0.7777777777777777 0.7853736089030208\n"
     ]
    }
   ],
   "source": [
    "from sklearn.metrics import accuracy_score, precision_score, recall_score, f1_score\n",
    "accuracy=accuracy_score(y_te,knn_pred)\n",
    "precision=precision_score(y_te,knn_pred,average='macro')\n",
    "recall=recall_score(y_te,knn_pred,average='macro')\n",
    "f1=f1_score(y_te,knn_pred,average='macro')\n",
    "print(accuracy, precision, recall, f1)"
   ]
  },
  {
   "cell_type": "code",
   "execution_count": 317,
   "id": "4f4dc996",
   "metadata": {},
   "outputs": [
    {
     "name": "stdout",
     "output_type": "stream",
     "text": [
      "[[32  4]\n",
      " [ 6 12]]\n"
     ]
    }
   ],
   "source": [
    "from sklearn.metrics import confusion_matrix\n",
    "conf_matrix=confusion_matrix(y_te,knn_pred)\n",
    "print(conf_matrix)"
   ]
  },
  {
   "cell_type": "code",
   "execution_count": 318,
   "id": "6a056351",
   "metadata": {},
   "outputs": [
    {
     "name": "stdout",
     "output_type": "stream",
     "text": [
      "              precision    recall  f1-score   support\n",
      "\n",
      "          No       0.84      0.89      0.86        36\n",
      "         Yes       0.75      0.67      0.71        18\n",
      "\n",
      "    accuracy                           0.81        54\n",
      "   macro avg       0.80      0.78      0.79        54\n",
      "weighted avg       0.81      0.81      0.81        54\n",
      "\n"
     ]
    }
   ],
   "source": [
    "from sklearn.metrics import classification_report\n",
    "class_report=classification_report(y_te,knn_pred)\n",
    "print(class_report)"
   ]
  },
  {
   "cell_type": "code",
   "execution_count": null,
   "id": "d527107c",
   "metadata": {},
   "outputs": [],
   "source": []
  },
  {
   "cell_type": "code",
   "execution_count": null,
   "id": "916133f2",
   "metadata": {},
   "outputs": [],
   "source": [
    "선형회귀"
   ]
  },
  {
   "cell_type": "code",
   "execution_count": 380,
   "id": "0b5e56d3",
   "metadata": {},
   "outputs": [],
   "source": [
    "df=pd.read_csv(\"c:/Datav/academy.csv\",encoding='cp949')"
   ]
  },
  {
   "cell_type": "code",
   "execution_count": 373,
   "id": "172e2a23",
   "metadata": {},
   "outputs": [
    {
     "data": {
      "text/plain": [
       "Index(['학생번호', '국어점수', '수학점수', '영어점수', '과학점수', '학업집중도'], dtype='object')"
      ]
     },
     "execution_count": 373,
     "metadata": {},
     "output_type": "execute_result"
    }
   ],
   "source": [
    "df.columns"
   ]
  },
  {
   "cell_type": "code",
   "execution_count": 381,
   "id": "f52e4efe",
   "metadata": {},
   "outputs": [],
   "source": [
    "features=['국어점수', '수학점수', '영어점수', '과학점수']\n",
    "\n",
    "X=df[features]\n",
    "y=df['학업집중도']"
   ]
  },
  {
   "cell_type": "code",
   "execution_count": 382,
   "id": "87904465",
   "metadata": {},
   "outputs": [],
   "source": [
    "from sklearn.model_selection import train_test_split\n",
    "X_tn, X_te, y_tn, y_te=train_test_split(X,y,test_size=0.1,random_state=0)"
   ]
  },
  {
   "cell_type": "code",
   "execution_count": 383,
   "id": "36320489",
   "metadata": {},
   "outputs": [],
   "source": [
    "from sklearn.preprocessing import StandardScaler\n",
    "st=StandardScaler()\n",
    "st.fit(X_tn)\n",
    "X_tn_st=st.transform(X_tn)\n",
    "X_te_st=st.transform(X_te)"
   ]
  },
  {
   "cell_type": "code",
   "execution_count": 384,
   "id": "3b643395",
   "metadata": {
    "scrolled": true
   },
   "outputs": [
    {
     "data": {
      "text/html": [
       "<table class=\"simpletable\">\n",
       "<caption>OLS Regression Results</caption>\n",
       "<tr>\n",
       "  <th>Dep. Variable:</th>          <td>학업집중도</td>      <th>  R-squared:         </th> <td>   0.456</td>\n",
       "</tr>\n",
       "<tr>\n",
       "  <th>Model:</th>                   <td>OLS</td>       <th>  Adj. R-squared:    </th> <td>   0.403</td>\n",
       "</tr>\n",
       "<tr>\n",
       "  <th>Method:</th>             <td>Least Squares</td>  <th>  F-statistic:       </th> <td>   8.585</td>\n",
       "</tr>\n",
       "<tr>\n",
       "  <th>Date:</th>             <td>Fri, 21 Jul 2023</td> <th>  Prob (F-statistic):</th> <td>3.96e-05</td>\n",
       "</tr>\n",
       "<tr>\n",
       "  <th>Time:</th>                 <td>01:23:32</td>     <th>  Log-Likelihood:    </th> <td> -161.77</td>\n",
       "</tr>\n",
       "<tr>\n",
       "  <th>No. Observations:</th>      <td>    46</td>      <th>  AIC:               </th> <td>   333.5</td>\n",
       "</tr>\n",
       "<tr>\n",
       "  <th>Df Residuals:</th>          <td>    41</td>      <th>  BIC:               </th> <td>   342.7</td>\n",
       "</tr>\n",
       "<tr>\n",
       "  <th>Df Model:</th>              <td>     4</td>      <th>                     </th>     <td> </td>   \n",
       "</tr>\n",
       "<tr>\n",
       "  <th>Covariance Type:</th>      <td>nonrobust</td>    <th>                     </th>     <td> </td>   \n",
       "</tr>\n",
       "</table>\n",
       "<table class=\"simpletable\">\n",
       "<tr>\n",
       "    <td></td>       <th>coef</th>     <th>std err</th>      <th>t</th>      <th>P>|t|</th>  <th>[0.025</th>    <th>0.975]</th>  \n",
       "</tr>\n",
       "<tr>\n",
       "  <th>const</th> <td>   27.5478</td> <td>    8.054</td> <td>    3.420</td> <td> 0.001</td> <td>   11.281</td> <td>   43.814</td>\n",
       "</tr>\n",
       "<tr>\n",
       "  <th>국어점수</th>  <td>    0.3754</td> <td>    0.171</td> <td>    2.191</td> <td> 0.034</td> <td>    0.029</td> <td>    0.721</td>\n",
       "</tr>\n",
       "<tr>\n",
       "  <th>수학점수</th>  <td>   -0.0861</td> <td>    0.205</td> <td>   -0.420</td> <td> 0.677</td> <td>   -0.500</td> <td>    0.328</td>\n",
       "</tr>\n",
       "<tr>\n",
       "  <th>영어점수</th>  <td>    0.0376</td> <td>    0.192</td> <td>    0.195</td> <td> 0.846</td> <td>   -0.351</td> <td>    0.426</td>\n",
       "</tr>\n",
       "<tr>\n",
       "  <th>과학점수</th>  <td>    0.2866</td> <td>    0.178</td> <td>    1.612</td> <td> 0.115</td> <td>   -0.072</td> <td>    0.646</td>\n",
       "</tr>\n",
       "</table>\n",
       "<table class=\"simpletable\">\n",
       "<tr>\n",
       "  <th>Omnibus:</th>       <td> 0.384</td> <th>  Durbin-Watson:     </th> <td>   2.241</td>\n",
       "</tr>\n",
       "<tr>\n",
       "  <th>Prob(Omnibus):</th> <td> 0.825</td> <th>  Jarque-Bera (JB):  </th> <td>   0.046</td>\n",
       "</tr>\n",
       "<tr>\n",
       "  <th>Skew:</th>          <td> 0.058</td> <th>  Prob(JB):          </th> <td>   0.977</td>\n",
       "</tr>\n",
       "<tr>\n",
       "  <th>Kurtosis:</th>      <td> 3.102</td> <th>  Cond. No.          </th> <td>    959.</td>\n",
       "</tr>\n",
       "</table><br/><br/>Notes:<br/>[1] Standard Errors assume that the covariance matrix of the errors is correctly specified."
      ],
      "text/latex": [
       "\\begin{center}\n",
       "\\begin{tabular}{lclc}\n",
       "\\toprule\n",
       "\\textbf{Dep. Variable:}    &      학업집중도       & \\textbf{  R-squared:         } &     0.456   \\\\\n",
       "\\textbf{Model:}            &       OLS        & \\textbf{  Adj. R-squared:    } &     0.403   \\\\\n",
       "\\textbf{Method:}           &  Least Squares   & \\textbf{  F-statistic:       } &     8.585   \\\\\n",
       "\\textbf{Date:}             & Fri, 21 Jul 2023 & \\textbf{  Prob (F-statistic):} &  3.96e-05   \\\\\n",
       "\\textbf{Time:}             &     01:23:32     & \\textbf{  Log-Likelihood:    } &   -161.77   \\\\\n",
       "\\textbf{No. Observations:} &          46      & \\textbf{  AIC:               } &     333.5   \\\\\n",
       "\\textbf{Df Residuals:}     &          41      & \\textbf{  BIC:               } &     342.7   \\\\\n",
       "\\textbf{Df Model:}         &           4      & \\textbf{                     } &             \\\\\n",
       "\\textbf{Covariance Type:}  &    nonrobust     & \\textbf{                     } &             \\\\\n",
       "\\bottomrule\n",
       "\\end{tabular}\n",
       "\\begin{tabular}{lcccccc}\n",
       "               & \\textbf{coef} & \\textbf{std err} & \\textbf{t} & \\textbf{P$> |$t$|$} & \\textbf{[0.025} & \\textbf{0.975]}  \\\\\n",
       "\\midrule\n",
       "\\textbf{const} &      27.5478  &        8.054     &     3.420  &         0.001        &       11.281    &       43.814     \\\\\n",
       "\\textbf{국어점수}  &       0.3754  &        0.171     &     2.191  &         0.034        &        0.029    &        0.721     \\\\\n",
       "\\textbf{수학점수}  &      -0.0861  &        0.205     &    -0.420  &         0.677        &       -0.500    &        0.328     \\\\\n",
       "\\textbf{영어점수}  &       0.0376  &        0.192     &     0.195  &         0.846        &       -0.351    &        0.426     \\\\\n",
       "\\textbf{과학점수}  &       0.2866  &        0.178     &     1.612  &         0.115        &       -0.072    &        0.646     \\\\\n",
       "\\bottomrule\n",
       "\\end{tabular}\n",
       "\\begin{tabular}{lclc}\n",
       "\\textbf{Omnibus:}       &  0.384 & \\textbf{  Durbin-Watson:     } &    2.241  \\\\\n",
       "\\textbf{Prob(Omnibus):} &  0.825 & \\textbf{  Jarque-Bera (JB):  } &    0.046  \\\\\n",
       "\\textbf{Skew:}          &  0.058 & \\textbf{  Prob(JB):          } &    0.977  \\\\\n",
       "\\textbf{Kurtosis:}      &  3.102 & \\textbf{  Cond. No.          } &     959.  \\\\\n",
       "\\bottomrule\n",
       "\\end{tabular}\n",
       "%\\caption{OLS Regression Results}\n",
       "\\end{center}\n",
       "\n",
       "Notes: \\newline\n",
       " [1] Standard Errors assume that the covariance matrix of the errors is correctly specified."
      ],
      "text/plain": [
       "<class 'statsmodels.iolib.summary.Summary'>\n",
       "\"\"\"\n",
       "                            OLS Regression Results                            \n",
       "==============================================================================\n",
       "Dep. Variable:                  학업집중도   R-squared:                       0.456\n",
       "Model:                            OLS   Adj. R-squared:                  0.403\n",
       "Method:                 Least Squares   F-statistic:                     8.585\n",
       "Date:                Fri, 21 Jul 2023   Prob (F-statistic):           3.96e-05\n",
       "Time:                        01:23:32   Log-Likelihood:                -161.77\n",
       "No. Observations:                  46   AIC:                             333.5\n",
       "Df Residuals:                      41   BIC:                             342.7\n",
       "Df Model:                           4                                         \n",
       "Covariance Type:            nonrobust                                         \n",
       "==============================================================================\n",
       "                 coef    std err          t      P>|t|      [0.025      0.975]\n",
       "------------------------------------------------------------------------------\n",
       "const         27.5478      8.054      3.420      0.001      11.281      43.814\n",
       "국어점수           0.3754      0.171      2.191      0.034       0.029       0.721\n",
       "수학점수          -0.0861      0.205     -0.420      0.677      -0.500       0.328\n",
       "영어점수           0.0376      0.192      0.195      0.846      -0.351       0.426\n",
       "과학점수           0.2866      0.178      1.612      0.115      -0.072       0.646\n",
       "==============================================================================\n",
       "Omnibus:                        0.384   Durbin-Watson:                   2.241\n",
       "Prob(Omnibus):                  0.825   Jarque-Bera (JB):                0.046\n",
       "Skew:                           0.058   Prob(JB):                        0.977\n",
       "Kurtosis:                       3.102   Cond. No.                         959.\n",
       "==============================================================================\n",
       "\n",
       "Notes:\n",
       "[1] Standard Errors assume that the covariance matrix of the errors is correctly specified.\n",
       "\"\"\""
      ]
     },
     "execution_count": 384,
     "metadata": {},
     "output_type": "execute_result"
    }
   ],
   "source": [
    "import statsmodels.api as sm;\n",
    "X_tn=sm.add_constant(X_tn)\n",
    "\n",
    "lm = sm.OLS(y_tn,X_tn).fit()\n",
    "lm.summary()"
   ]
  },
  {
   "cell_type": "code",
   "execution_count": 386,
   "id": "0b829695",
   "metadata": {},
   "outputs": [
    {
     "data": {
      "text/html": [
       "<div>\n",
       "<style scoped>\n",
       "    .dataframe tbody tr th:only-of-type {\n",
       "        vertical-align: middle;\n",
       "    }\n",
       "\n",
       "    .dataframe tbody tr th {\n",
       "        vertical-align: top;\n",
       "    }\n",
       "\n",
       "    .dataframe thead th {\n",
       "        text-align: right;\n",
       "    }\n",
       "</style>\n",
       "<table border=\"1\" class=\"dataframe\">\n",
       "  <thead>\n",
       "    <tr style=\"text-align: right;\">\n",
       "      <th></th>\n",
       "      <th>VIF Factor</th>\n",
       "      <th>features</th>\n",
       "    </tr>\n",
       "  </thead>\n",
       "  <tbody>\n",
       "    <tr>\n",
       "      <th>0</th>\n",
       "      <td>40.069466</td>\n",
       "      <td>const</td>\n",
       "    </tr>\n",
       "    <tr>\n",
       "      <th>1</th>\n",
       "      <td>4.019809</td>\n",
       "      <td>국어점수</td>\n",
       "    </tr>\n",
       "    <tr>\n",
       "      <th>2</th>\n",
       "      <td>6.199653</td>\n",
       "      <td>수학점수</td>\n",
       "    </tr>\n",
       "    <tr>\n",
       "      <th>3</th>\n",
       "      <td>4.322256</td>\n",
       "      <td>영어점수</td>\n",
       "    </tr>\n",
       "    <tr>\n",
       "      <th>4</th>\n",
       "      <td>5.639517</td>\n",
       "      <td>과학점수</td>\n",
       "    </tr>\n",
       "  </tbody>\n",
       "</table>\n",
       "</div>"
      ],
      "text/plain": [
       "   VIF Factor features\n",
       "0   40.069466    const\n",
       "1    4.019809     국어점수\n",
       "2    6.199653     수학점수\n",
       "3    4.322256     영어점수\n",
       "4    5.639517     과학점수"
      ]
     },
     "execution_count": 386,
     "metadata": {},
     "output_type": "execute_result"
    }
   ],
   "source": [
    "from statsmodels.stats.outliers_influence import variance_inflation_factor\n",
    "\n",
    "vif = pd.DataFrame()\n",
    "vif[\"VIF Factor\"] = [variance_inflation_factor(X_tn.values, i) for i in range(X_tn.shape[1])]\n",
    "vif[\"features\"] = X_tn.columns\n",
    "vif\n",
    "\n",
    "#10보다 크므로 문제 있음 (엄격할 경우 5)"
   ]
  },
  {
   "cell_type": "code",
   "execution_count": 325,
   "id": "b518c709",
   "metadata": {},
   "outputs": [
    {
     "data": {
      "text/html": [
       "<style>#sk-container-id-86 {color: black;}#sk-container-id-86 pre{padding: 0;}#sk-container-id-86 div.sk-toggleable {background-color: white;}#sk-container-id-86 label.sk-toggleable__label {cursor: pointer;display: block;width: 100%;margin-bottom: 0;padding: 0.3em;box-sizing: border-box;text-align: center;}#sk-container-id-86 label.sk-toggleable__label-arrow:before {content: \"▸\";float: left;margin-right: 0.25em;color: #696969;}#sk-container-id-86 label.sk-toggleable__label-arrow:hover:before {color: black;}#sk-container-id-86 div.sk-estimator:hover label.sk-toggleable__label-arrow:before {color: black;}#sk-container-id-86 div.sk-toggleable__content {max-height: 0;max-width: 0;overflow: hidden;text-align: left;background-color: #f0f8ff;}#sk-container-id-86 div.sk-toggleable__content pre {margin: 0.2em;color: black;border-radius: 0.25em;background-color: #f0f8ff;}#sk-container-id-86 input.sk-toggleable__control:checked~div.sk-toggleable__content {max-height: 200px;max-width: 100%;overflow: auto;}#sk-container-id-86 input.sk-toggleable__control:checked~label.sk-toggleable__label-arrow:before {content: \"▾\";}#sk-container-id-86 div.sk-estimator input.sk-toggleable__control:checked~label.sk-toggleable__label {background-color: #d4ebff;}#sk-container-id-86 div.sk-label input.sk-toggleable__control:checked~label.sk-toggleable__label {background-color: #d4ebff;}#sk-container-id-86 input.sk-hidden--visually {border: 0;clip: rect(1px 1px 1px 1px);clip: rect(1px, 1px, 1px, 1px);height: 1px;margin: -1px;overflow: hidden;padding: 0;position: absolute;width: 1px;}#sk-container-id-86 div.sk-estimator {font-family: monospace;background-color: #f0f8ff;border: 1px dotted black;border-radius: 0.25em;box-sizing: border-box;margin-bottom: 0.5em;}#sk-container-id-86 div.sk-estimator:hover {background-color: #d4ebff;}#sk-container-id-86 div.sk-parallel-item::after {content: \"\";width: 100%;border-bottom: 1px solid gray;flex-grow: 1;}#sk-container-id-86 div.sk-label:hover label.sk-toggleable__label {background-color: #d4ebff;}#sk-container-id-86 div.sk-serial::before {content: \"\";position: absolute;border-left: 1px solid gray;box-sizing: border-box;top: 0;bottom: 0;left: 50%;z-index: 0;}#sk-container-id-86 div.sk-serial {display: flex;flex-direction: column;align-items: center;background-color: white;padding-right: 0.2em;padding-left: 0.2em;position: relative;}#sk-container-id-86 div.sk-item {position: relative;z-index: 1;}#sk-container-id-86 div.sk-parallel {display: flex;align-items: stretch;justify-content: center;background-color: white;position: relative;}#sk-container-id-86 div.sk-item::before, #sk-container-id-86 div.sk-parallel-item::before {content: \"\";position: absolute;border-left: 1px solid gray;box-sizing: border-box;top: 0;bottom: 0;left: 50%;z-index: -1;}#sk-container-id-86 div.sk-parallel-item {display: flex;flex-direction: column;z-index: 1;position: relative;background-color: white;}#sk-container-id-86 div.sk-parallel-item:first-child::after {align-self: flex-end;width: 50%;}#sk-container-id-86 div.sk-parallel-item:last-child::after {align-self: flex-start;width: 50%;}#sk-container-id-86 div.sk-parallel-item:only-child::after {width: 0;}#sk-container-id-86 div.sk-dashed-wrapped {border: 1px dashed gray;margin: 0 0.4em 0.5em 0.4em;box-sizing: border-box;padding-bottom: 0.4em;background-color: white;}#sk-container-id-86 div.sk-label label {font-family: monospace;font-weight: bold;display: inline-block;line-height: 1.2em;}#sk-container-id-86 div.sk-label-container {text-align: center;}#sk-container-id-86 div.sk-container {/* jupyter's `normalize.less` sets `[hidden] { display: none; }` but bootstrap.min.css set `[hidden] { display: none !important; }` so we also need the `!important` here to be able to override the default hidden behavior on the sphinx rendered scikit-learn.org. See: https://github.com/scikit-learn/scikit-learn/issues/21755 */display: inline-block !important;position: relative;}#sk-container-id-86 div.sk-text-repr-fallback {display: none;}</style><div id=\"sk-container-id-86\" class=\"sk-top-container\"><div class=\"sk-text-repr-fallback\"><pre>LinearRegression()</pre><b>In a Jupyter environment, please rerun this cell to show the HTML representation or trust the notebook. <br />On GitHub, the HTML representation is unable to render, please try loading this page with nbviewer.org.</b></div><div class=\"sk-container\" hidden><div class=\"sk-item\"><div class=\"sk-estimator sk-toggleable\"><input class=\"sk-toggleable__control sk-hidden--visually\" id=\"sk-estimator-id-86\" type=\"checkbox\" checked><label for=\"sk-estimator-id-86\" class=\"sk-toggleable__label sk-toggleable__label-arrow\">LinearRegression</label><div class=\"sk-toggleable__content\"><pre>LinearRegression()</pre></div></div></div></div></div>"
      ],
      "text/plain": [
       "LinearRegression()"
      ]
     },
     "execution_count": 325,
     "metadata": {},
     "output_type": "execute_result"
    }
   ],
   "source": [
    "from sklearn.linear_model import LinearRegression\n",
    "clf_lr=LinearRegression()\n",
    "clf_lr.fit(X_tn,y_tn)"
   ]
  },
  {
   "cell_type": "code",
   "execution_count": 326,
   "id": "bba76615",
   "metadata": {},
   "outputs": [
    {
     "name": "stdout",
     "output_type": "stream",
     "text": [
      "[ 0.37537077 -0.08606466  0.037559    0.28657459]\n",
      "27.547760941823846\n"
     ]
    }
   ],
   "source": [
    "print(clf_lr.coef_)\n",
    "print(clf_lr.intercept_)"
   ]
  },
  {
   "cell_type": "code",
   "execution_count": 327,
   "id": "659a2701",
   "metadata": {},
   "outputs": [
    {
     "data": {
      "text/html": [
       "<style>#sk-container-id-87 {color: black;}#sk-container-id-87 pre{padding: 0;}#sk-container-id-87 div.sk-toggleable {background-color: white;}#sk-container-id-87 label.sk-toggleable__label {cursor: pointer;display: block;width: 100%;margin-bottom: 0;padding: 0.3em;box-sizing: border-box;text-align: center;}#sk-container-id-87 label.sk-toggleable__label-arrow:before {content: \"▸\";float: left;margin-right: 0.25em;color: #696969;}#sk-container-id-87 label.sk-toggleable__label-arrow:hover:before {color: black;}#sk-container-id-87 div.sk-estimator:hover label.sk-toggleable__label-arrow:before {color: black;}#sk-container-id-87 div.sk-toggleable__content {max-height: 0;max-width: 0;overflow: hidden;text-align: left;background-color: #f0f8ff;}#sk-container-id-87 div.sk-toggleable__content pre {margin: 0.2em;color: black;border-radius: 0.25em;background-color: #f0f8ff;}#sk-container-id-87 input.sk-toggleable__control:checked~div.sk-toggleable__content {max-height: 200px;max-width: 100%;overflow: auto;}#sk-container-id-87 input.sk-toggleable__control:checked~label.sk-toggleable__label-arrow:before {content: \"▾\";}#sk-container-id-87 div.sk-estimator input.sk-toggleable__control:checked~label.sk-toggleable__label {background-color: #d4ebff;}#sk-container-id-87 div.sk-label input.sk-toggleable__control:checked~label.sk-toggleable__label {background-color: #d4ebff;}#sk-container-id-87 input.sk-hidden--visually {border: 0;clip: rect(1px 1px 1px 1px);clip: rect(1px, 1px, 1px, 1px);height: 1px;margin: -1px;overflow: hidden;padding: 0;position: absolute;width: 1px;}#sk-container-id-87 div.sk-estimator {font-family: monospace;background-color: #f0f8ff;border: 1px dotted black;border-radius: 0.25em;box-sizing: border-box;margin-bottom: 0.5em;}#sk-container-id-87 div.sk-estimator:hover {background-color: #d4ebff;}#sk-container-id-87 div.sk-parallel-item::after {content: \"\";width: 100%;border-bottom: 1px solid gray;flex-grow: 1;}#sk-container-id-87 div.sk-label:hover label.sk-toggleable__label {background-color: #d4ebff;}#sk-container-id-87 div.sk-serial::before {content: \"\";position: absolute;border-left: 1px solid gray;box-sizing: border-box;top: 0;bottom: 0;left: 50%;z-index: 0;}#sk-container-id-87 div.sk-serial {display: flex;flex-direction: column;align-items: center;background-color: white;padding-right: 0.2em;padding-left: 0.2em;position: relative;}#sk-container-id-87 div.sk-item {position: relative;z-index: 1;}#sk-container-id-87 div.sk-parallel {display: flex;align-items: stretch;justify-content: center;background-color: white;position: relative;}#sk-container-id-87 div.sk-item::before, #sk-container-id-87 div.sk-parallel-item::before {content: \"\";position: absolute;border-left: 1px solid gray;box-sizing: border-box;top: 0;bottom: 0;left: 50%;z-index: -1;}#sk-container-id-87 div.sk-parallel-item {display: flex;flex-direction: column;z-index: 1;position: relative;background-color: white;}#sk-container-id-87 div.sk-parallel-item:first-child::after {align-self: flex-end;width: 50%;}#sk-container-id-87 div.sk-parallel-item:last-child::after {align-self: flex-start;width: 50%;}#sk-container-id-87 div.sk-parallel-item:only-child::after {width: 0;}#sk-container-id-87 div.sk-dashed-wrapped {border: 1px dashed gray;margin: 0 0.4em 0.5em 0.4em;box-sizing: border-box;padding-bottom: 0.4em;background-color: white;}#sk-container-id-87 div.sk-label label {font-family: monospace;font-weight: bold;display: inline-block;line-height: 1.2em;}#sk-container-id-87 div.sk-label-container {text-align: center;}#sk-container-id-87 div.sk-container {/* jupyter's `normalize.less` sets `[hidden] { display: none; }` but bootstrap.min.css set `[hidden] { display: none !important; }` so we also need the `!important` here to be able to override the default hidden behavior on the sphinx rendered scikit-learn.org. See: https://github.com/scikit-learn/scikit-learn/issues/21755 */display: inline-block !important;position: relative;}#sk-container-id-87 div.sk-text-repr-fallback {display: none;}</style><div id=\"sk-container-id-87\" class=\"sk-top-container\"><div class=\"sk-text-repr-fallback\"><pre>Ridge(alpha=0.1)</pre><b>In a Jupyter environment, please rerun this cell to show the HTML representation or trust the notebook. <br />On GitHub, the HTML representation is unable to render, please try loading this page with nbviewer.org.</b></div><div class=\"sk-container\" hidden><div class=\"sk-item\"><div class=\"sk-estimator sk-toggleable\"><input class=\"sk-toggleable__control sk-hidden--visually\" id=\"sk-estimator-id-87\" type=\"checkbox\" checked><label for=\"sk-estimator-id-87\" class=\"sk-toggleable__label sk-toggleable__label-arrow\">Ridge</label><div class=\"sk-toggleable__content\"><pre>Ridge(alpha=0.1)</pre></div></div></div></div></div>"
      ],
      "text/plain": [
       "Ridge(alpha=0.1)"
      ]
     },
     "execution_count": 327,
     "metadata": {},
     "output_type": "execute_result"
    }
   ],
   "source": [
    "from sklearn.linear_model import Ridge\n",
    "clf_ridge=Ridge(alpha=0.1)\n",
    "clf_ridge.fit(X_tn,y_tn)"
   ]
  },
  {
   "cell_type": "code",
   "execution_count": 328,
   "id": "748e6693",
   "metadata": {},
   "outputs": [
    {
     "data": {
      "text/html": [
       "<style>#sk-container-id-88 {color: black;}#sk-container-id-88 pre{padding: 0;}#sk-container-id-88 div.sk-toggleable {background-color: white;}#sk-container-id-88 label.sk-toggleable__label {cursor: pointer;display: block;width: 100%;margin-bottom: 0;padding: 0.3em;box-sizing: border-box;text-align: center;}#sk-container-id-88 label.sk-toggleable__label-arrow:before {content: \"▸\";float: left;margin-right: 0.25em;color: #696969;}#sk-container-id-88 label.sk-toggleable__label-arrow:hover:before {color: black;}#sk-container-id-88 div.sk-estimator:hover label.sk-toggleable__label-arrow:before {color: black;}#sk-container-id-88 div.sk-toggleable__content {max-height: 0;max-width: 0;overflow: hidden;text-align: left;background-color: #f0f8ff;}#sk-container-id-88 div.sk-toggleable__content pre {margin: 0.2em;color: black;border-radius: 0.25em;background-color: #f0f8ff;}#sk-container-id-88 input.sk-toggleable__control:checked~div.sk-toggleable__content {max-height: 200px;max-width: 100%;overflow: auto;}#sk-container-id-88 input.sk-toggleable__control:checked~label.sk-toggleable__label-arrow:before {content: \"▾\";}#sk-container-id-88 div.sk-estimator input.sk-toggleable__control:checked~label.sk-toggleable__label {background-color: #d4ebff;}#sk-container-id-88 div.sk-label input.sk-toggleable__control:checked~label.sk-toggleable__label {background-color: #d4ebff;}#sk-container-id-88 input.sk-hidden--visually {border: 0;clip: rect(1px 1px 1px 1px);clip: rect(1px, 1px, 1px, 1px);height: 1px;margin: -1px;overflow: hidden;padding: 0;position: absolute;width: 1px;}#sk-container-id-88 div.sk-estimator {font-family: monospace;background-color: #f0f8ff;border: 1px dotted black;border-radius: 0.25em;box-sizing: border-box;margin-bottom: 0.5em;}#sk-container-id-88 div.sk-estimator:hover {background-color: #d4ebff;}#sk-container-id-88 div.sk-parallel-item::after {content: \"\";width: 100%;border-bottom: 1px solid gray;flex-grow: 1;}#sk-container-id-88 div.sk-label:hover label.sk-toggleable__label {background-color: #d4ebff;}#sk-container-id-88 div.sk-serial::before {content: \"\";position: absolute;border-left: 1px solid gray;box-sizing: border-box;top: 0;bottom: 0;left: 50%;z-index: 0;}#sk-container-id-88 div.sk-serial {display: flex;flex-direction: column;align-items: center;background-color: white;padding-right: 0.2em;padding-left: 0.2em;position: relative;}#sk-container-id-88 div.sk-item {position: relative;z-index: 1;}#sk-container-id-88 div.sk-parallel {display: flex;align-items: stretch;justify-content: center;background-color: white;position: relative;}#sk-container-id-88 div.sk-item::before, #sk-container-id-88 div.sk-parallel-item::before {content: \"\";position: absolute;border-left: 1px solid gray;box-sizing: border-box;top: 0;bottom: 0;left: 50%;z-index: -1;}#sk-container-id-88 div.sk-parallel-item {display: flex;flex-direction: column;z-index: 1;position: relative;background-color: white;}#sk-container-id-88 div.sk-parallel-item:first-child::after {align-self: flex-end;width: 50%;}#sk-container-id-88 div.sk-parallel-item:last-child::after {align-self: flex-start;width: 50%;}#sk-container-id-88 div.sk-parallel-item:only-child::after {width: 0;}#sk-container-id-88 div.sk-dashed-wrapped {border: 1px dashed gray;margin: 0 0.4em 0.5em 0.4em;box-sizing: border-box;padding-bottom: 0.4em;background-color: white;}#sk-container-id-88 div.sk-label label {font-family: monospace;font-weight: bold;display: inline-block;line-height: 1.2em;}#sk-container-id-88 div.sk-label-container {text-align: center;}#sk-container-id-88 div.sk-container {/* jupyter's `normalize.less` sets `[hidden] { display: none; }` but bootstrap.min.css set `[hidden] { display: none !important; }` so we also need the `!important` here to be able to override the default hidden behavior on the sphinx rendered scikit-learn.org. See: https://github.com/scikit-learn/scikit-learn/issues/21755 */display: inline-block !important;position: relative;}#sk-container-id-88 div.sk-text-repr-fallback {display: none;}</style><div id=\"sk-container-id-88\" class=\"sk-top-container\"><div class=\"sk-text-repr-fallback\"><pre>Lasso(alpha=3)</pre><b>In a Jupyter environment, please rerun this cell to show the HTML representation or trust the notebook. <br />On GitHub, the HTML representation is unable to render, please try loading this page with nbviewer.org.</b></div><div class=\"sk-container\" hidden><div class=\"sk-item\"><div class=\"sk-estimator sk-toggleable\"><input class=\"sk-toggleable__control sk-hidden--visually\" id=\"sk-estimator-id-88\" type=\"checkbox\" checked><label for=\"sk-estimator-id-88\" class=\"sk-toggleable__label sk-toggleable__label-arrow\">Lasso</label><div class=\"sk-toggleable__content\"><pre>Lasso(alpha=3)</pre></div></div></div></div></div>"
      ],
      "text/plain": [
       "Lasso(alpha=3)"
      ]
     },
     "execution_count": 328,
     "metadata": {},
     "output_type": "execute_result"
    }
   ],
   "source": [
    "from sklearn.linear_model import Lasso\n",
    "clf_lasso=Lasso(alpha=3)\n",
    "clf_lasso.fit(X_tn,y_tn)"
   ]
  },
  {
   "cell_type": "code",
   "execution_count": 329,
   "id": "65c1ce1a",
   "metadata": {},
   "outputs": [
    {
     "data": {
      "text/html": [
       "<style>#sk-container-id-89 {color: black;}#sk-container-id-89 pre{padding: 0;}#sk-container-id-89 div.sk-toggleable {background-color: white;}#sk-container-id-89 label.sk-toggleable__label {cursor: pointer;display: block;width: 100%;margin-bottom: 0;padding: 0.3em;box-sizing: border-box;text-align: center;}#sk-container-id-89 label.sk-toggleable__label-arrow:before {content: \"▸\";float: left;margin-right: 0.25em;color: #696969;}#sk-container-id-89 label.sk-toggleable__label-arrow:hover:before {color: black;}#sk-container-id-89 div.sk-estimator:hover label.sk-toggleable__label-arrow:before {color: black;}#sk-container-id-89 div.sk-toggleable__content {max-height: 0;max-width: 0;overflow: hidden;text-align: left;background-color: #f0f8ff;}#sk-container-id-89 div.sk-toggleable__content pre {margin: 0.2em;color: black;border-radius: 0.25em;background-color: #f0f8ff;}#sk-container-id-89 input.sk-toggleable__control:checked~div.sk-toggleable__content {max-height: 200px;max-width: 100%;overflow: auto;}#sk-container-id-89 input.sk-toggleable__control:checked~label.sk-toggleable__label-arrow:before {content: \"▾\";}#sk-container-id-89 div.sk-estimator input.sk-toggleable__control:checked~label.sk-toggleable__label {background-color: #d4ebff;}#sk-container-id-89 div.sk-label input.sk-toggleable__control:checked~label.sk-toggleable__label {background-color: #d4ebff;}#sk-container-id-89 input.sk-hidden--visually {border: 0;clip: rect(1px 1px 1px 1px);clip: rect(1px, 1px, 1px, 1px);height: 1px;margin: -1px;overflow: hidden;padding: 0;position: absolute;width: 1px;}#sk-container-id-89 div.sk-estimator {font-family: monospace;background-color: #f0f8ff;border: 1px dotted black;border-radius: 0.25em;box-sizing: border-box;margin-bottom: 0.5em;}#sk-container-id-89 div.sk-estimator:hover {background-color: #d4ebff;}#sk-container-id-89 div.sk-parallel-item::after {content: \"\";width: 100%;border-bottom: 1px solid gray;flex-grow: 1;}#sk-container-id-89 div.sk-label:hover label.sk-toggleable__label {background-color: #d4ebff;}#sk-container-id-89 div.sk-serial::before {content: \"\";position: absolute;border-left: 1px solid gray;box-sizing: border-box;top: 0;bottom: 0;left: 50%;z-index: 0;}#sk-container-id-89 div.sk-serial {display: flex;flex-direction: column;align-items: center;background-color: white;padding-right: 0.2em;padding-left: 0.2em;position: relative;}#sk-container-id-89 div.sk-item {position: relative;z-index: 1;}#sk-container-id-89 div.sk-parallel {display: flex;align-items: stretch;justify-content: center;background-color: white;position: relative;}#sk-container-id-89 div.sk-item::before, #sk-container-id-89 div.sk-parallel-item::before {content: \"\";position: absolute;border-left: 1px solid gray;box-sizing: border-box;top: 0;bottom: 0;left: 50%;z-index: -1;}#sk-container-id-89 div.sk-parallel-item {display: flex;flex-direction: column;z-index: 1;position: relative;background-color: white;}#sk-container-id-89 div.sk-parallel-item:first-child::after {align-self: flex-end;width: 50%;}#sk-container-id-89 div.sk-parallel-item:last-child::after {align-self: flex-start;width: 50%;}#sk-container-id-89 div.sk-parallel-item:only-child::after {width: 0;}#sk-container-id-89 div.sk-dashed-wrapped {border: 1px dashed gray;margin: 0 0.4em 0.5em 0.4em;box-sizing: border-box;padding-bottom: 0.4em;background-color: white;}#sk-container-id-89 div.sk-label label {font-family: monospace;font-weight: bold;display: inline-block;line-height: 1.2em;}#sk-container-id-89 div.sk-label-container {text-align: center;}#sk-container-id-89 div.sk-container {/* jupyter's `normalize.less` sets `[hidden] { display: none; }` but bootstrap.min.css set `[hidden] { display: none !important; }` so we also need the `!important` here to be able to override the default hidden behavior on the sphinx rendered scikit-learn.org. See: https://github.com/scikit-learn/scikit-learn/issues/21755 */display: inline-block !important;position: relative;}#sk-container-id-89 div.sk-text-repr-fallback {display: none;}</style><div id=\"sk-container-id-89\" class=\"sk-top-container\"><div class=\"sk-text-repr-fallback\"><pre>ElasticNet(alpha=0.1)</pre><b>In a Jupyter environment, please rerun this cell to show the HTML representation or trust the notebook. <br />On GitHub, the HTML representation is unable to render, please try loading this page with nbviewer.org.</b></div><div class=\"sk-container\" hidden><div class=\"sk-item\"><div class=\"sk-estimator sk-toggleable\"><input class=\"sk-toggleable__control sk-hidden--visually\" id=\"sk-estimator-id-89\" type=\"checkbox\" checked><label for=\"sk-estimator-id-89\" class=\"sk-toggleable__label sk-toggleable__label-arrow\">ElasticNet</label><div class=\"sk-toggleable__content\"><pre>ElasticNet(alpha=0.1)</pre></div></div></div></div></div>"
      ],
      "text/plain": [
       "ElasticNet(alpha=0.1)"
      ]
     },
     "execution_count": 329,
     "metadata": {},
     "output_type": "execute_result"
    }
   ],
   "source": [
    "from sklearn.linear_model import ElasticNet\n",
    "clf_elastic=ElasticNet(alpha=0.1)\n",
    "clf_elastic.fit(X_tn,y_tn)"
   ]
  },
  {
   "cell_type": "code",
   "execution_count": 330,
   "id": "5828c1d2",
   "metadata": {},
   "outputs": [],
   "source": [
    "pred_lr=clf_lr.predict(X_te)\n",
    "pred_ridge=clf_ridge.predict(X_te)\n",
    "pred_lasso=clf_lasso.predict(X_te)\n",
    "pred_elastic=clf_elastic.predict(X_te)"
   ]
  },
  {
   "cell_type": "code",
   "execution_count": 331,
   "id": "63f87115",
   "metadata": {},
   "outputs": [
    {
     "name": "stdout",
     "output_type": "stream",
     "text": [
      "21.595185635962327\n",
      "21.5946340821517\n",
      "19.860698423047726\n",
      "21.523353715246966\n"
     ]
    }
   ],
   "source": [
    "from sklearn.metrics import mean_squared_error\n",
    "print(mean_squared_error(y_te, pred_lr))\n",
    "print(mean_squared_error(y_te, pred_ridge))\n",
    "print(mean_squared_error(y_te, pred_lasso))\n",
    "print(mean_squared_error(y_te, pred_elastic))"
   ]
  },
  {
   "cell_type": "code",
   "execution_count": null,
   "id": "473ab221",
   "metadata": {},
   "outputs": [],
   "source": []
  },
  {
   "cell_type": "code",
   "execution_count": null,
   "id": "c093a834",
   "metadata": {},
   "outputs": [],
   "source": []
  },
  {
   "cell_type": "code",
   "execution_count": null,
   "id": "a28bd13b",
   "metadata": {},
   "outputs": [],
   "source": [
    "naive bayze classification"
   ]
  },
  {
   "cell_type": "code",
   "execution_count": 353,
   "id": "e38deac1",
   "metadata": {},
   "outputs": [
    {
     "data": {
      "text/plain": [
       "Index(['npreg', 'glu', 'bp', 'skin', 'bmi', 'ped', 'age', 'type'], dtype='object')"
      ]
     },
     "execution_count": 353,
     "metadata": {},
     "output_type": "execute_result"
    }
   ],
   "source": [
    "df=pd.read_csv('c:/Datav/Pima.csv')\n",
    "df.columns"
   ]
  },
  {
   "cell_type": "code",
   "execution_count": 354,
   "id": "7f8c521c",
   "metadata": {},
   "outputs": [],
   "source": [
    "feature=['npreg', 'glu', 'bp', 'skin', 'bmi', 'ped', 'age']\n",
    "\n",
    "X=df[feature]\n",
    "y=df['type']"
   ]
  },
  {
   "cell_type": "code",
   "execution_count": 348,
   "id": "36195516",
   "metadata": {},
   "outputs": [
    {
     "data": {
      "text/html": [
       "<div>\n",
       "<style scoped>\n",
       "    .dataframe tbody tr th:only-of-type {\n",
       "        vertical-align: middle;\n",
       "    }\n",
       "\n",
       "    .dataframe tbody tr th {\n",
       "        vertical-align: top;\n",
       "    }\n",
       "\n",
       "    .dataframe thead th {\n",
       "        text-align: right;\n",
       "    }\n",
       "</style>\n",
       "<table border=\"1\" class=\"dataframe\">\n",
       "  <thead>\n",
       "    <tr style=\"text-align: right;\">\n",
       "      <th></th>\n",
       "      <th>npreg</th>\n",
       "      <th>glu</th>\n",
       "      <th>bp</th>\n",
       "      <th>skin</th>\n",
       "      <th>bmi</th>\n",
       "      <th>ped</th>\n",
       "      <th>age</th>\n",
       "    </tr>\n",
       "  </thead>\n",
       "  <tbody>\n",
       "    <tr>\n",
       "      <th>npreg</th>\n",
       "      <td>1.000000</td>\n",
       "      <td>0.125330</td>\n",
       "      <td>0.204663</td>\n",
       "      <td>0.095085</td>\n",
       "      <td>0.008576</td>\n",
       "      <td>0.007435</td>\n",
       "      <td>0.640747</td>\n",
       "    </tr>\n",
       "    <tr>\n",
       "      <th>glu</th>\n",
       "      <td>0.125330</td>\n",
       "      <td>1.000000</td>\n",
       "      <td>0.219178</td>\n",
       "      <td>0.226590</td>\n",
       "      <td>0.247079</td>\n",
       "      <td>0.165817</td>\n",
       "      <td>0.278907</td>\n",
       "    </tr>\n",
       "    <tr>\n",
       "      <th>bp</th>\n",
       "      <td>0.204663</td>\n",
       "      <td>0.219178</td>\n",
       "      <td>1.000000</td>\n",
       "      <td>0.226072</td>\n",
       "      <td>0.307357</td>\n",
       "      <td>0.008047</td>\n",
       "      <td>0.346939</td>\n",
       "    </tr>\n",
       "    <tr>\n",
       "      <th>skin</th>\n",
       "      <td>0.095085</td>\n",
       "      <td>0.226590</td>\n",
       "      <td>0.226072</td>\n",
       "      <td>1.000000</td>\n",
       "      <td>0.647422</td>\n",
       "      <td>0.118636</td>\n",
       "      <td>0.161336</td>\n",
       "    </tr>\n",
       "    <tr>\n",
       "      <th>bmi</th>\n",
       "      <td>0.008576</td>\n",
       "      <td>0.247079</td>\n",
       "      <td>0.307357</td>\n",
       "      <td>0.647422</td>\n",
       "      <td>1.000000</td>\n",
       "      <td>0.151107</td>\n",
       "      <td>0.073438</td>\n",
       "    </tr>\n",
       "    <tr>\n",
       "      <th>ped</th>\n",
       "      <td>0.007435</td>\n",
       "      <td>0.165817</td>\n",
       "      <td>0.008047</td>\n",
       "      <td>0.118636</td>\n",
       "      <td>0.151107</td>\n",
       "      <td>1.000000</td>\n",
       "      <td>0.071654</td>\n",
       "    </tr>\n",
       "    <tr>\n",
       "      <th>age</th>\n",
       "      <td>0.640747</td>\n",
       "      <td>0.278907</td>\n",
       "      <td>0.346939</td>\n",
       "      <td>0.161336</td>\n",
       "      <td>0.073438</td>\n",
       "      <td>0.071654</td>\n",
       "      <td>1.000000</td>\n",
       "    </tr>\n",
       "  </tbody>\n",
       "</table>\n",
       "</div>"
      ],
      "text/plain": [
       "          npreg       glu        bp      skin       bmi       ped       age\n",
       "npreg  1.000000  0.125330  0.204663  0.095085  0.008576  0.007435  0.640747\n",
       "glu    0.125330  1.000000  0.219178  0.226590  0.247079  0.165817  0.278907\n",
       "bp     0.204663  0.219178  1.000000  0.226072  0.307357  0.008047  0.346939\n",
       "skin   0.095085  0.226590  0.226072  1.000000  0.647422  0.118636  0.161336\n",
       "bmi    0.008576  0.247079  0.307357  0.647422  1.000000  0.151107  0.073438\n",
       "ped    0.007435  0.165817  0.008047  0.118636  0.151107  1.000000  0.071654\n",
       "age    0.640747  0.278907  0.346939  0.161336  0.073438  0.071654  1.000000"
      ]
     },
     "execution_count": 348,
     "metadata": {},
     "output_type": "execute_result"
    }
   ],
   "source": [
    "X.corr()"
   ]
  },
  {
   "cell_type": "code",
   "execution_count": 359,
   "id": "ec8fb142",
   "metadata": {},
   "outputs": [],
   "source": [
    "X_tn,X_te,y_tn,y_te=train_test_split(X,y,stratify=y,random_state=0)"
   ]
  },
  {
   "cell_type": "code",
   "execution_count": 362,
   "id": "8673bd22",
   "metadata": {},
   "outputs": [
    {
     "data": {
      "text/html": [
       "<div>\n",
       "<style scoped>\n",
       "    .dataframe tbody tr th:only-of-type {\n",
       "        vertical-align: middle;\n",
       "    }\n",
       "\n",
       "    .dataframe tbody tr th {\n",
       "        vertical-align: top;\n",
       "    }\n",
       "\n",
       "    .dataframe thead th {\n",
       "        text-align: right;\n",
       "    }\n",
       "</style>\n",
       "<table border=\"1\" class=\"dataframe\">\n",
       "  <thead>\n",
       "    <tr style=\"text-align: right;\">\n",
       "      <th></th>\n",
       "      <th>npreg</th>\n",
       "      <th>glu</th>\n",
       "      <th>bp</th>\n",
       "      <th>skin</th>\n",
       "      <th>bmi</th>\n",
       "      <th>ped</th>\n",
       "      <th>age</th>\n",
       "    </tr>\n",
       "  </thead>\n",
       "  <tbody>\n",
       "    <tr>\n",
       "      <th>410</th>\n",
       "      <td>4</td>\n",
       "      <td>132</td>\n",
       "      <td>86</td>\n",
       "      <td>31</td>\n",
       "      <td>28.0</td>\n",
       "      <td>0.419</td>\n",
       "      <td>63</td>\n",
       "    </tr>\n",
       "    <tr>\n",
       "      <th>244</th>\n",
       "      <td>7</td>\n",
       "      <td>81</td>\n",
       "      <td>78</td>\n",
       "      <td>40</td>\n",
       "      <td>46.7</td>\n",
       "      <td>0.261</td>\n",
       "      <td>42</td>\n",
       "    </tr>\n",
       "    <tr>\n",
       "      <th>353</th>\n",
       "      <td>3</td>\n",
       "      <td>99</td>\n",
       "      <td>62</td>\n",
       "      <td>19</td>\n",
       "      <td>21.8</td>\n",
       "      <td>0.279</td>\n",
       "      <td>26</td>\n",
       "    </tr>\n",
       "    <tr>\n",
       "      <th>210</th>\n",
       "      <td>1</td>\n",
       "      <td>97</td>\n",
       "      <td>66</td>\n",
       "      <td>15</td>\n",
       "      <td>23.2</td>\n",
       "      <td>0.487</td>\n",
       "      <td>22</td>\n",
       "    </tr>\n",
       "    <tr>\n",
       "      <th>197</th>\n",
       "      <td>0</td>\n",
       "      <td>106</td>\n",
       "      <td>70</td>\n",
       "      <td>37</td>\n",
       "      <td>39.4</td>\n",
       "      <td>0.605</td>\n",
       "      <td>22</td>\n",
       "    </tr>\n",
       "  </tbody>\n",
       "</table>\n",
       "</div>"
      ],
      "text/plain": [
       "     npreg  glu  bp  skin   bmi    ped  age\n",
       "410      4  132  86    31  28.0  0.419   63\n",
       "244      7   81  78    40  46.7  0.261   42\n",
       "353      3   99  62    19  21.8  0.279   26\n",
       "210      1   97  66    15  23.2  0.487   22\n",
       "197      0  106  70    37  39.4  0.605   22"
      ]
     },
     "execution_count": 362,
     "metadata": {},
     "output_type": "execute_result"
    }
   ],
   "source": [
    "X_tn.head()"
   ]
  },
  {
   "cell_type": "code",
   "execution_count": 363,
   "id": "07170e82",
   "metadata": {},
   "outputs": [
    {
     "data": {
      "text/plain": [
       "410    No\n",
       "244    No\n",
       "353    No\n",
       "210    No\n",
       "197    No\n",
       "Name: type, dtype: object"
      ]
     },
     "execution_count": 363,
     "metadata": {},
     "output_type": "execute_result"
    }
   ],
   "source": [
    "y_tn.head()"
   ]
  },
  {
   "cell_type": "code",
   "execution_count": 365,
   "id": "c41f595b",
   "metadata": {},
   "outputs": [
    {
     "ename": "AttributeError",
     "evalue": "module 'statsmodels.api' has no attribute 'LogisticRegression'",
     "output_type": "error",
     "traceback": [
      "\u001b[1;31m---------------------------------------------------------------------------\u001b[0m",
      "\u001b[1;31mAttributeError\u001b[0m                            Traceback (most recent call last)",
      "Cell \u001b[1;32mIn[365], line 5\u001b[0m\n\u001b[0;32m      2\u001b[0m \u001b[38;5;28;01mfrom\u001b[39;00m \u001b[38;5;21;01msklearn\u001b[39;00m\u001b[38;5;21;01m.\u001b[39;00m\u001b[38;5;21;01mlinear_model\u001b[39;00m \u001b[38;5;28;01mimport\u001b[39;00m LogisticRegression\n\u001b[0;32m      3\u001b[0m X_tn\u001b[38;5;241m=\u001b[39msm\u001b[38;5;241m.\u001b[39madd_constant(X_tn)\n\u001b[1;32m----> 5\u001b[0m lm \u001b[38;5;241m=\u001b[39m \u001b[43msm\u001b[49m\u001b[38;5;241;43m.\u001b[39;49m\u001b[43mLogisticRegression\u001b[49m(X_tn,y_tn)\u001b[38;5;241m.\u001b[39mfit()\n\u001b[0;32m      6\u001b[0m lm\u001b[38;5;241m.\u001b[39msummary()\n",
      "\u001b[1;31mAttributeError\u001b[0m: module 'statsmodels.api' has no attribute 'LogisticRegression'"
     ]
    }
   ],
   "source": [
    "import statsmodels.api as sm;\n",
    "from sklearn.linear_model import LogisticRegression\n",
    "X_tn=sm.add_constant(X_tn)\n",
    "\n",
    "lm = sm.LogisticRegression(X_tn,y_tn).fit()\n",
    "lm.summary()"
   ]
  },
  {
   "cell_type": "code",
   "execution_count": 335,
   "id": "f9e6f6a0",
   "metadata": {},
   "outputs": [],
   "source": [
    "from sklearn.preprocessing import StandardScaler\n",
    "st=StandardScaler()\n",
    "st.fit(X_tn)\n",
    "X_tn_std=st.transform(X_tn)\n",
    "X_te_std=st.transform(X_te)"
   ]
  },
  {
   "cell_type": "code",
   "execution_count": 337,
   "id": "786d95c0",
   "metadata": {},
   "outputs": [
    {
     "data": {
      "text/html": [
       "<style>#sk-container-id-90 {color: black;}#sk-container-id-90 pre{padding: 0;}#sk-container-id-90 div.sk-toggleable {background-color: white;}#sk-container-id-90 label.sk-toggleable__label {cursor: pointer;display: block;width: 100%;margin-bottom: 0;padding: 0.3em;box-sizing: border-box;text-align: center;}#sk-container-id-90 label.sk-toggleable__label-arrow:before {content: \"▸\";float: left;margin-right: 0.25em;color: #696969;}#sk-container-id-90 label.sk-toggleable__label-arrow:hover:before {color: black;}#sk-container-id-90 div.sk-estimator:hover label.sk-toggleable__label-arrow:before {color: black;}#sk-container-id-90 div.sk-toggleable__content {max-height: 0;max-width: 0;overflow: hidden;text-align: left;background-color: #f0f8ff;}#sk-container-id-90 div.sk-toggleable__content pre {margin: 0.2em;color: black;border-radius: 0.25em;background-color: #f0f8ff;}#sk-container-id-90 input.sk-toggleable__control:checked~div.sk-toggleable__content {max-height: 200px;max-width: 100%;overflow: auto;}#sk-container-id-90 input.sk-toggleable__control:checked~label.sk-toggleable__label-arrow:before {content: \"▾\";}#sk-container-id-90 div.sk-estimator input.sk-toggleable__control:checked~label.sk-toggleable__label {background-color: #d4ebff;}#sk-container-id-90 div.sk-label input.sk-toggleable__control:checked~label.sk-toggleable__label {background-color: #d4ebff;}#sk-container-id-90 input.sk-hidden--visually {border: 0;clip: rect(1px 1px 1px 1px);clip: rect(1px, 1px, 1px, 1px);height: 1px;margin: -1px;overflow: hidden;padding: 0;position: absolute;width: 1px;}#sk-container-id-90 div.sk-estimator {font-family: monospace;background-color: #f0f8ff;border: 1px dotted black;border-radius: 0.25em;box-sizing: border-box;margin-bottom: 0.5em;}#sk-container-id-90 div.sk-estimator:hover {background-color: #d4ebff;}#sk-container-id-90 div.sk-parallel-item::after {content: \"\";width: 100%;border-bottom: 1px solid gray;flex-grow: 1;}#sk-container-id-90 div.sk-label:hover label.sk-toggleable__label {background-color: #d4ebff;}#sk-container-id-90 div.sk-serial::before {content: \"\";position: absolute;border-left: 1px solid gray;box-sizing: border-box;top: 0;bottom: 0;left: 50%;z-index: 0;}#sk-container-id-90 div.sk-serial {display: flex;flex-direction: column;align-items: center;background-color: white;padding-right: 0.2em;padding-left: 0.2em;position: relative;}#sk-container-id-90 div.sk-item {position: relative;z-index: 1;}#sk-container-id-90 div.sk-parallel {display: flex;align-items: stretch;justify-content: center;background-color: white;position: relative;}#sk-container-id-90 div.sk-item::before, #sk-container-id-90 div.sk-parallel-item::before {content: \"\";position: absolute;border-left: 1px solid gray;box-sizing: border-box;top: 0;bottom: 0;left: 50%;z-index: -1;}#sk-container-id-90 div.sk-parallel-item {display: flex;flex-direction: column;z-index: 1;position: relative;background-color: white;}#sk-container-id-90 div.sk-parallel-item:first-child::after {align-self: flex-end;width: 50%;}#sk-container-id-90 div.sk-parallel-item:last-child::after {align-self: flex-start;width: 50%;}#sk-container-id-90 div.sk-parallel-item:only-child::after {width: 0;}#sk-container-id-90 div.sk-dashed-wrapped {border: 1px dashed gray;margin: 0 0.4em 0.5em 0.4em;box-sizing: border-box;padding-bottom: 0.4em;background-color: white;}#sk-container-id-90 div.sk-label label {font-family: monospace;font-weight: bold;display: inline-block;line-height: 1.2em;}#sk-container-id-90 div.sk-label-container {text-align: center;}#sk-container-id-90 div.sk-container {/* jupyter's `normalize.less` sets `[hidden] { display: none; }` but bootstrap.min.css set `[hidden] { display: none !important; }` so we also need the `!important` here to be able to override the default hidden behavior on the sphinx rendered scikit-learn.org. See: https://github.com/scikit-learn/scikit-learn/issues/21755 */display: inline-block !important;position: relative;}#sk-container-id-90 div.sk-text-repr-fallback {display: none;}</style><div id=\"sk-container-id-90\" class=\"sk-top-container\"><div class=\"sk-text-repr-fallback\"><pre>GaussianNB()</pre><b>In a Jupyter environment, please rerun this cell to show the HTML representation or trust the notebook. <br />On GitHub, the HTML representation is unable to render, please try loading this page with nbviewer.org.</b></div><div class=\"sk-container\" hidden><div class=\"sk-item\"><div class=\"sk-estimator sk-toggleable\"><input class=\"sk-toggleable__control sk-hidden--visually\" id=\"sk-estimator-id-90\" type=\"checkbox\" checked><label for=\"sk-estimator-id-90\" class=\"sk-toggleable__label sk-toggleable__label-arrow\">GaussianNB</label><div class=\"sk-toggleable__content\"><pre>GaussianNB()</pre></div></div></div></div></div>"
      ],
      "text/plain": [
       "GaussianNB()"
      ]
     },
     "execution_count": 337,
     "metadata": {},
     "output_type": "execute_result"
    }
   ],
   "source": [
    "from sklearn.naive_bayes import GaussianNB\n",
    "nb=GaussianNB()\n",
    "nb.fit(X_tn_std,y_tn)"
   ]
  },
  {
   "cell_type": "code",
   "execution_count": 339,
   "id": "b68996a0",
   "metadata": {},
   "outputs": [
    {
     "name": "stdout",
     "output_type": "stream",
     "text": [
      "['No' 'Yes' 'No' 'Yes' 'No' 'No' 'No' 'No' 'No' 'No' 'No' 'No' 'Yes' 'No'\n",
      " 'No' 'No' 'No' 'No' 'Yes' 'No' 'No' 'Yes' 'No' 'Yes' 'No' 'Yes' 'Yes'\n",
      " 'No' 'No' 'No' 'No' 'Yes' 'No' 'No' 'No' 'No' 'No' 'No' 'No' 'No' 'No'\n",
      " 'No' 'No' 'No' 'No' 'No' 'Yes' 'No' 'No' 'No' 'No' 'No' 'No' 'Yes' 'No'\n",
      " 'No' 'No' 'Yes' 'No' 'No' 'No' 'No' 'Yes' 'Yes' 'No' 'No' 'No' 'Yes' 'No'\n",
      " 'No' 'No' 'No' 'No' 'No' 'Yes' 'Yes' 'No' 'No' 'No' 'Yes' 'Yes' 'No'\n",
      " 'Yes' 'No' 'Yes' 'No' 'No' 'Yes' 'No' 'Yes' 'No' 'No' 'No' 'No' 'No' 'No'\n",
      " 'Yes' 'No' 'No' 'No' 'No' 'No' 'No' 'No' 'Yes' 'Yes' 'Yes' 'No' 'Yes'\n",
      " 'Yes' 'Yes' 'Yes' 'Yes' 'No' 'No' 'Yes' 'No' 'No' 'Yes' 'No' 'No' 'Yes'\n",
      " 'Yes' 'Yes' 'Yes' 'No' 'No' 'Yes' 'Yes' 'Yes' 'Yes' 'No' 'Yes']\n"
     ]
    }
   ],
   "source": [
    "pred_nb=nb.predict(X_te_std)\n",
    "print(pred_nb)"
   ]
  },
  {
   "cell_type": "code",
   "execution_count": 341,
   "id": "455da006",
   "metadata": {},
   "outputs": [
    {
     "name": "stdout",
     "output_type": "stream",
     "text": [
      "[[73 16]\n",
      " [17 27]]\n"
     ]
    }
   ],
   "source": [
    "from sklearn.metrics import confusion_matrix\n",
    "conf_matrix = confusion_matrix(y_te, pred_nb)\n",
    "print(conf_matrix)"
   ]
  },
  {
   "cell_type": "code",
   "execution_count": 342,
   "id": "c7d84e19",
   "metadata": {},
   "outputs": [
    {
     "name": "stdout",
     "output_type": "stream",
     "text": [
      "              precision    recall  f1-score   support\n",
      "\n",
      "          No       0.81      0.82      0.82        89\n",
      "         Yes       0.63      0.61      0.62        44\n",
      "\n",
      "    accuracy                           0.75       133\n",
      "   macro avg       0.72      0.72      0.72       133\n",
      "weighted avg       0.75      0.75      0.75       133\n",
      "\n"
     ]
    }
   ],
   "source": [
    "from sklearn.metrics import classification_report\n",
    "class_report = classification_report(y_te, pred_nb)\n",
    "print(class_report)"
   ]
  },
  {
   "cell_type": "code",
   "execution_count": null,
   "id": "ddf61a5a",
   "metadata": {},
   "outputs": [],
   "source": []
  }
 ],
 "metadata": {
  "kernelspec": {
   "display_name": "Python 3 (ipykernel)",
   "language": "python",
   "name": "python3"
  },
  "language_info": {
   "codemirror_mode": {
    "name": "ipython",
    "version": 3
   },
   "file_extension": ".py",
   "mimetype": "text/x-python",
   "name": "python",
   "nbconvert_exporter": "python",
   "pygments_lexer": "ipython3",
   "version": "3.10.4"
  }
 },
 "nbformat": 4,
 "nbformat_minor": 5
}
