{
  "nbformat": 4,
  "nbformat_minor": 0,
  "metadata": {
    "colab": {
      "provenance": [],
      "include_colab_link": true
    },
    "kernelspec": {
      "name": "python3",
      "display_name": "Python 3"
    },
    "language_info": {
      "name": "python"
    }
  },
  "cells": [
    {
      "cell_type": "markdown",
      "metadata": {
        "id": "view-in-github",
        "colab_type": "text"
      },
      "source": [
        "<a href=\"https://colab.research.google.com/github/seungcheoll/algorithm/blob/main/ML3_ch5_3_%ED%8A%B8%EB%A6%AC%EC%9D%98_%EC%95%99%EC%83%81%EB%B8%94_230520.ipynb\" target=\"_parent\"><img src=\"https://colab.research.google.com/assets/colab-badge.svg\" alt=\"Open In Colab\"/></a>"
      ]
    },
    {
      "cell_type": "markdown",
      "metadata": {
        "id": "zp6fW8MP-mrO"
      },
      "source": [
        "## **05-3 트리의 앙상블**"
      ]
    },
    {
      "cell_type": "markdown",
      "source": [
        "\"나무 말고 숲을 보라.\" (p. 264)"
      ],
      "metadata": {
        "id": "WIy5ffWIeHJk"
      }
    },
    {
      "cell_type": "markdown",
      "source": [
        "### 1) 정형데이터와 비정형데이터, 앙상블"
      ],
      "metadata": {
        "id": "JpQzorhX60Ip"
      }
    },
    {
      "cell_type": "markdown",
      "source": [
        "#### a) 정형, 비정형 데이터"
      ],
      "metadata": {
        "id": "ojN7VF5UfIRi"
      }
    },
    {
      "cell_type": "markdown",
      "source": [
        "* 정형데이터(structured data)\n",
        "\n",
        "    csv data,\n",
        "\n",
        "    Excel이나 Database로 저장한 데이터\n",
        "\n",
        "  - '사이킷런에서 제공하는 정형데이터 분석의 끝판왕 - **앙상블(ensemble)** 학습 알고리즘' (p. 265)\n",
        "    -  random forest\n",
        "    - extra tree\n",
        "    - gradient boosting\n",
        "    - histogram-based gradient boosting\n",
        "    - ...\n",
        "\n",
        "* 비정형데이터(unstrunctured data)\n",
        "\n",
        "    text data, image data, sound data, ...\n",
        "\n",
        "    - 비정형 데이터를 위한 학습 알고리즘은?\n",
        "      - 분류, 회귀, 군집 알고리즘. ......\n",
        "      - 7장 이후에 공부할 **인공 신경망(ANN, artificial neural network)**\n",
        "\n"
      ],
      "metadata": {
        "id": "zTb8AkdRefo6"
      }
    },
    {
      "cell_type": "markdown",
      "source": [
        "#### b) 앙상블, 배깅\n",
        "\n",
        "* 앙상블\n",
        "\n",
        "  성능이 아주 뛰어난 분류 알고리즘이 하나 있다고 하자.\n",
        "\n",
        "  한편 성능이 낮은 분류 알고리즘들이 여러 개 있다고 하자.\n",
        "\n",
        "  성능이 낮은 알고리즘 여럿의 결과를 모아서 (다수결 방식으로) 예측한다면 아주 뛰어난 알고리즘 하나만 이용할 때보다 성능이 더 좋아지지 않을까?"
      ],
      "metadata": {
        "id": "lwIhOpAkabNE"
      }
    },
    {
      "cell_type": "markdown",
      "source": [
        "\n",
        "\n",
        ">   **대중의 지혜** : 답을 찾기 어려운 사회적 이슈가 있다. 간단히 답을 찾을 수 없는 꽤 복잡한 문제라고 해보자.\n",
        "\n",
        "\n",
        "\n",
        "> 전문지식을 가진 전문가 한 사람의 의견을 따를 것인가, 아니면 다수 일반 시민에게 물어서 얻은 결과를 따를 것인가?"
      ],
      "metadata": {
        "id": "iBWwTB_wcKHn"
      }
    },
    {
      "cell_type": "markdown",
      "source": [
        "\n",
        "\n",
        "> **앙상블(ensemble)**은 여러 알고리즘을 함께 이용해서 분류, 예측하는 방법이다.\n",
        "\n"
      ],
      "metadata": {
        "id": "noeof0lNbnar"
      }
    },
    {
      "cell_type": "markdown",
      "source": [
        "* 배깅\n",
        "\n",
        "  분류 문제를 위한 앙상블 학습을 예로 들어보자.\n",
        "\n",
        "  여러 가지 다른 분류 알고리즘들을 이용해서 동일한 훈련데이터로 앙상블 분류 학습을 할 수 있다.\n",
        "\n",
        "  한편, 하나의 알고리즘을 이용하되 훈련 데이터를 랜덤하게 바꾸어서 앙상블 학습하는 방법도 있겠다. 이때 훈련 데이터에서 중복을 허용하여 샘플링한 서로 다른 데이터에 하나의 알고리즘을 적용하는 방식을 **배깅(bagging, bootrsrap aggregating)**이라 부른다. 중복을 허용하지 않고 샘플링하는 방법은 pasting이라고 부른다.\n",
        "\n",
        "  배깅 가운데 특별히 <u>훈련 데이터로부터 중복을 허용하여 무작위로 샘플링한 서로 다른 데이터에 대해 결정트리를 이용하는 앙상블 방법</u>을 **랜덤 포레스트**라고 부른다. 즉 random forest는 부트스트랩 샘플링 방법으로 얻은 다른 훈련데이터에 대해 트리 모델을 이용해서 분류하는 방법으로서 배깅의 일종이다. 물론 랜덤포레스트를 비롯한 배깅 방법들은 회귀에도 이용할 수 있다."
      ],
      "metadata": {
        "id": "3M5-kvWJcyKN"
      }
    },
    {
      "cell_type": "markdown",
      "source": [
        "#### c) variance - bias tradeoff\n",
        "\n",
        "분류, 회귀 문제에서 예측오류는 편향(bias)과 분산(variance) 둘로 나눌 수 있다.\n",
        "\n",
        "훈련 데이터에 너무 잘 들어맞는 복잡한 모델을 만들면 데이터의 패턴을 잘 찾아내지만(편향이 작다) 데이터가 조금만 바뀌어도 예측이 달라진다. 즉 모델을 훈련 데이터 바깥으로 일반화하기 어려워지는 과대적합 문제가 생긴다(분산이 커진다).\n",
        "\n",
        "반대로 너무 단순한 모델을 만들면 데이터가 바뀌어도 모델은 별로 바뀌지 않지만(분산이 작아진다) 데이터의 패턴을 제대로 찾아내지 못하게 된다(편향이 커진다). 이처럼 둘을 동시에 작게 만들 수 없다는 것이다.\n",
        "\n",
        "> [한글 위키피디아](https://ko.wikipedia.org/wiki/%ED%8E%B8%ED%96%A5-%EB%B6%84%EC%82%B0_%ED%8A%B8%EB%A0%88%EC%9D%B4%EB%93%9C%EC%98%A4%ED%94%84)의 설명을 보자."
      ],
      "metadata": {
        "id": "0muBaXmM4W3i"
      }
    },
    {
      "cell_type": "markdown",
      "source": [
        "노드분할을 거듭하면 결정트리는 과대적합 모델을 만들기 쉽다. 즉 편향이 작아지는 대신 분산이 커지는 경향이 있다. 반면 노드 분할을 적게 하면 트리모델의 분산은 줄어들지만 편향이 커진다. 랜덤포레스트를 비롯한 앙상블 방법은 통상적으로 편향을 크게 만들지 않으면서 분산을 줄이는 방법으로 알려져있다(물론 그 댓가는 계산량이 많아진다는 점이다)."
      ],
      "metadata": {
        "id": "PypCcEU3-HHj"
      }
    },
    {
      "cell_type": "markdown",
      "metadata": {
        "id": "dIaIAizcRSG-"
      },
      "source": [
        "### 2) 랜덤포레스트"
      ]
    },
    {
      "cell_type": "markdown",
      "source": [
        "#### a) random forest란?"
      ],
      "metadata": {
        "id": "RkeSwT2ijsRp"
      }
    },
    {
      "cell_type": "markdown",
      "source": [
        "하나의 결정 트리가 아니라 여러 결정 트리로 이루어진 숲(기본값 = 결정 트리 100개)을 이용해서 target을 예측하는 대표적인 앙상블 학습 알고리즘.\n",
        "\n",
        "    분류를 위한 random forest : `RandomForestClassifier`\n",
        "\n",
        "    회귀를 위한 rarndom forest : `RandomForestRegressor`"
      ],
      "metadata": {
        "id": "3i5toSkPgB0U"
      }
    },
    {
      "cell_type": "markdown",
      "source": [
        "#### b) bootstrap sampling"
      ],
      "metadata": {
        "id": "-BvsEibyjyIh"
      }
    },
    {
      "cell_type": "markdown",
      "source": [
        "각 트리를 훈련할 때 입력 훈련 데이터 중에서 <u>랜덤하게 중복 추출</u>한 데이터를 이용(265-6쪽 설명 볼 것).\n",
        "\n",
        "[B. Efron](https://en.wikipedia.org/wiki/Bradley_Efron)"
      ],
      "metadata": {
        "id": "gsmpZcsBkHWR"
      }
    },
    {
      "cell_type": "markdown",
      "source": [
        "#### c)  랜덤 포레스트의 두 가지 'random'"
      ],
      "metadata": {
        "id": "B6hZgMJIj-6Z"
      }
    },
    {
      "cell_type": "markdown",
      "source": [
        "\n",
        "\n",
        "> * 각 트리의 훈련 샘플을 부트스트랩 방식으로 랜덤하게 선택한다(트리마다 학습 데이터가 달라진다).\n",
        "\n",
        "> * 분류 알고리즘의 경우 각 트리의 feature 변수 중에서 몇 개를 랜덤하게 선택한다(트리마다 피처변수들이 달라진다)."
      ],
      "metadata": {
        "id": "HjhbdLNDktGx"
      }
    },
    {
      "cell_type": "markdown",
      "source": [
        "#### d) random forest 와인 분류"
      ],
      "metadata": {
        "id": "uYqXkZw5lDyJ"
      }
    },
    {
      "cell_type": "code",
      "execution_count": null,
      "metadata": {
        "id": "ioJUlZ0M_uSZ"
      },
      "outputs": [],
      "source": [
        "import numpy as np\n",
        "import pandas as pd\n",
        "from sklearn.model_selection import train_test_split"
      ]
    },
    {
      "cell_type": "code",
      "source": [
        "wine = pd.read_csv('https://bit.ly/wine_csv_data')"
      ],
      "metadata": {
        "id": "R63N6o5M_06L"
      },
      "execution_count": null,
      "outputs": []
    },
    {
      "cell_type": "code",
      "source": [
        "wine.shape"
      ],
      "metadata": {
        "id": "Iw6lHeJHkkqN",
        "colab": {
          "base_uri": "https://localhost:8080/"
        },
        "outputId": "56ece140-e83c-4ed2-9033-dc9389626781"
      },
      "execution_count": null,
      "outputs": [
        {
          "output_type": "execute_result",
          "data": {
            "text/plain": [
              "(6497, 4)"
            ]
          },
          "metadata": {},
          "execution_count": 3
        }
      ]
    },
    {
      "cell_type": "code",
      "source": [
        "wine.head()"
      ],
      "metadata": {
        "id": "e0vkTHdXkn9W",
        "colab": {
          "base_uri": "https://localhost:8080/",
          "height": 206
        },
        "outputId": "d3c14f79-d7f3-48e6-a59f-4c20d5e2fa54"
      },
      "execution_count": null,
      "outputs": [
        {
          "output_type": "execute_result",
          "data": {
            "text/plain": [
              "   alcohol  sugar    pH  class\n",
              "0      9.4    1.9  3.51    0.0\n",
              "1      9.8    2.6  3.20    0.0\n",
              "2      9.8    2.3  3.26    0.0\n",
              "3      9.8    1.9  3.16    0.0\n",
              "4      9.4    1.9  3.51    0.0"
            ],
            "text/html": [
              "\n",
              "  <div id=\"df-0e6cffb2-563a-435f-93b9-67b7c1820f60\">\n",
              "    <div class=\"colab-df-container\">\n",
              "      <div>\n",
              "<style scoped>\n",
              "    .dataframe tbody tr th:only-of-type {\n",
              "        vertical-align: middle;\n",
              "    }\n",
              "\n",
              "    .dataframe tbody tr th {\n",
              "        vertical-align: top;\n",
              "    }\n",
              "\n",
              "    .dataframe thead th {\n",
              "        text-align: right;\n",
              "    }\n",
              "</style>\n",
              "<table border=\"1\" class=\"dataframe\">\n",
              "  <thead>\n",
              "    <tr style=\"text-align: right;\">\n",
              "      <th></th>\n",
              "      <th>alcohol</th>\n",
              "      <th>sugar</th>\n",
              "      <th>pH</th>\n",
              "      <th>class</th>\n",
              "    </tr>\n",
              "  </thead>\n",
              "  <tbody>\n",
              "    <tr>\n",
              "      <th>0</th>\n",
              "      <td>9.4</td>\n",
              "      <td>1.9</td>\n",
              "      <td>3.51</td>\n",
              "      <td>0.0</td>\n",
              "    </tr>\n",
              "    <tr>\n",
              "      <th>1</th>\n",
              "      <td>9.8</td>\n",
              "      <td>2.6</td>\n",
              "      <td>3.20</td>\n",
              "      <td>0.0</td>\n",
              "    </tr>\n",
              "    <tr>\n",
              "      <th>2</th>\n",
              "      <td>9.8</td>\n",
              "      <td>2.3</td>\n",
              "      <td>3.26</td>\n",
              "      <td>0.0</td>\n",
              "    </tr>\n",
              "    <tr>\n",
              "      <th>3</th>\n",
              "      <td>9.8</td>\n",
              "      <td>1.9</td>\n",
              "      <td>3.16</td>\n",
              "      <td>0.0</td>\n",
              "    </tr>\n",
              "    <tr>\n",
              "      <th>4</th>\n",
              "      <td>9.4</td>\n",
              "      <td>1.9</td>\n",
              "      <td>3.51</td>\n",
              "      <td>0.0</td>\n",
              "    </tr>\n",
              "  </tbody>\n",
              "</table>\n",
              "</div>\n",
              "      <button class=\"colab-df-convert\" onclick=\"convertToInteractive('df-0e6cffb2-563a-435f-93b9-67b7c1820f60')\"\n",
              "              title=\"Convert this dataframe to an interactive table.\"\n",
              "              style=\"display:none;\">\n",
              "        \n",
              "  <svg xmlns=\"http://www.w3.org/2000/svg\" height=\"24px\"viewBox=\"0 0 24 24\"\n",
              "       width=\"24px\">\n",
              "    <path d=\"M0 0h24v24H0V0z\" fill=\"none\"/>\n",
              "    <path d=\"M18.56 5.44l.94 2.06.94-2.06 2.06-.94-2.06-.94-.94-2.06-.94 2.06-2.06.94zm-11 1L8.5 8.5l.94-2.06 2.06-.94-2.06-.94L8.5 2.5l-.94 2.06-2.06.94zm10 10l.94 2.06.94-2.06 2.06-.94-2.06-.94-.94-2.06-.94 2.06-2.06.94z\"/><path d=\"M17.41 7.96l-1.37-1.37c-.4-.4-.92-.59-1.43-.59-.52 0-1.04.2-1.43.59L10.3 9.45l-7.72 7.72c-.78.78-.78 2.05 0 2.83L4 21.41c.39.39.9.59 1.41.59.51 0 1.02-.2 1.41-.59l7.78-7.78 2.81-2.81c.8-.78.8-2.07 0-2.86zM5.41 20L4 18.59l7.72-7.72 1.47 1.35L5.41 20z\"/>\n",
              "  </svg>\n",
              "      </button>\n",
              "      \n",
              "  <style>\n",
              "    .colab-df-container {\n",
              "      display:flex;\n",
              "      flex-wrap:wrap;\n",
              "      gap: 12px;\n",
              "    }\n",
              "\n",
              "    .colab-df-convert {\n",
              "      background-color: #E8F0FE;\n",
              "      border: none;\n",
              "      border-radius: 50%;\n",
              "      cursor: pointer;\n",
              "      display: none;\n",
              "      fill: #1967D2;\n",
              "      height: 32px;\n",
              "      padding: 0 0 0 0;\n",
              "      width: 32px;\n",
              "    }\n",
              "\n",
              "    .colab-df-convert:hover {\n",
              "      background-color: #E2EBFA;\n",
              "      box-shadow: 0px 1px 2px rgba(60, 64, 67, 0.3), 0px 1px 3px 1px rgba(60, 64, 67, 0.15);\n",
              "      fill: #174EA6;\n",
              "    }\n",
              "\n",
              "    [theme=dark] .colab-df-convert {\n",
              "      background-color: #3B4455;\n",
              "      fill: #D2E3FC;\n",
              "    }\n",
              "\n",
              "    [theme=dark] .colab-df-convert:hover {\n",
              "      background-color: #434B5C;\n",
              "      box-shadow: 0px 1px 3px 1px rgba(0, 0, 0, 0.15);\n",
              "      filter: drop-shadow(0px 1px 2px rgba(0, 0, 0, 0.3));\n",
              "      fill: #FFFFFF;\n",
              "    }\n",
              "  </style>\n",
              "\n",
              "      <script>\n",
              "        const buttonEl =\n",
              "          document.querySelector('#df-0e6cffb2-563a-435f-93b9-67b7c1820f60 button.colab-df-convert');\n",
              "        buttonEl.style.display =\n",
              "          google.colab.kernel.accessAllowed ? 'block' : 'none';\n",
              "\n",
              "        async function convertToInteractive(key) {\n",
              "          const element = document.querySelector('#df-0e6cffb2-563a-435f-93b9-67b7c1820f60');\n",
              "          const dataTable =\n",
              "            await google.colab.kernel.invokeFunction('convertToInteractive',\n",
              "                                                     [key], {});\n",
              "          if (!dataTable) return;\n",
              "\n",
              "          const docLinkHtml = 'Like what you see? Visit the ' +\n",
              "            '<a target=\"_blank\" href=https://colab.research.google.com/notebooks/data_table.ipynb>data table notebook</a>'\n",
              "            + ' to learn more about interactive tables.';\n",
              "          element.innerHTML = '';\n",
              "          dataTable['output_type'] = 'display_data';\n",
              "          await google.colab.output.renderOutput(dataTable, element);\n",
              "          const docLink = document.createElement('div');\n",
              "          docLink.innerHTML = docLinkHtml;\n",
              "          element.appendChild(docLink);\n",
              "        }\n",
              "      </script>\n",
              "    </div>\n",
              "  </div>\n",
              "  "
            ]
          },
          "metadata": {},
          "execution_count": 4
        }
      ]
    },
    {
      "cell_type": "code",
      "source": [
        "data = wine[['alcohol', 'sugar', 'pH']].to_numpy()\n",
        "target = wine['class'].to_numpy()"
      ],
      "metadata": {
        "id": "mcmBAGt8kNTZ"
      },
      "execution_count": null,
      "outputs": []
    },
    {
      "cell_type": "code",
      "source": [
        "train_input, test_input, train_target, test_target = \\\n",
        "train_test_split(data, target, test_size=0.2, random_state=42)"
      ],
      "metadata": {
        "id": "HIQnC6gy4Oer"
      },
      "execution_count": null,
      "outputs": []
    },
    {
      "cell_type": "code",
      "source": [
        "print(train_input.shape, test_input.shape)"
      ],
      "metadata": {
        "id": "PjwaFazH2k3x",
        "colab": {
          "base_uri": "https://localhost:8080/"
        },
        "outputId": "6897e541-b8d6-4dda-cae9-e2f7e61c6e35"
      },
      "execution_count": null,
      "outputs": [
        {
          "output_type": "stream",
          "name": "stdout",
          "text": [
            "(5197, 3) (1300, 3)\n"
          ]
        }
      ]
    },
    {
      "cell_type": "markdown",
      "source": [
        "랜덤포레스트 분류 클래스 `RandomForestClassifier`는 사이킷런의 `ensemble` 모듈 안에 있다."
      ],
      "metadata": {
        "id": "APqcK_8Gy9OZ"
      }
    },
    {
      "cell_type": "code",
      "source": [
        "from sklearn.ensemble import RandomForestClassifier"
      ],
      "metadata": {
        "id": "z1utuoOQ1njk"
      },
      "execution_count": null,
      "outputs": []
    },
    {
      "cell_type": "markdown",
      "source": [
        "`RandomForestClassifier()`의 괄호 속에는 `DecisionTreeClassifier`에 나오는 파라미터들을 비롯해서 여러 파라미터가 들어갈 수 있는데([도움말](https://scikit-learn.org/stable/modules/generated/sklearn.ensemble.RandomForestClassifier.html#sklearn.ensemble.RandomForestClassifier) 참조) 그 중에서 `n_estimators`와 `max_features`가 특히 중요하다.\n",
        "\n",
        "  * `n_estimators`는 랜덤포레스트에서 이용할 트리모델의 수(기본값은 100개)를 의미한다.\n",
        "\n",
        "  * 또 `max_features`는 노드를 분할할 때 이용할 feature 변수의 수를 나타낸다(기본값은 전체 피처 수의 제곱근)."
      ],
      "metadata": {
        "id": "nFog3AKlzKS0"
      }
    },
    {
      "cell_type": "markdown",
      "source": [
        "랜덤 포레스트는 전체 학습 데이터가 아니라 학습데이터로부터 부트스트랩 샘플링으로 얻은 데이터를 가지고 많은 트리를 만든다.\n",
        "\n",
        "그리고 각 트리에서 노드를 분할할 때에는 `max_features`에서 지정한 수만큼의 피처변수만을 랜덤으로 선택해서 최적의 분할 기준을 찾아 노드를 나눈다.\n",
        "\n",
        "즉 random forest에서는 각 나무를 만들 훈련 데이터 선택 때, 그리고 각 나무를 만들 피처 변수 선택 때 'random'이 작용한다.\n",
        "\n",
        "<u>랜덤포레스 방법의 실행 시간이 오래 걸린다면 노드 분할 때마다 최적의 분할 기준을 찾아야하 는 바로 이 단계때문</u>이다."
      ],
      "metadata": {
        "id": "rFYsyDe31Nwl"
      }
    },
    {
      "cell_type": "markdown",
      "source": [
        "먼저 기본 파라미터만으로 랜덤포레스트 모델을 학습하고 성능을 알아보자."
      ],
      "metadata": {
        "id": "Asu8TlL23EhK"
      }
    },
    {
      "cell_type": "code",
      "source": [
        "rf = RandomForestClassifier(random_state=42, n_jobs = -1)\n",
        "rf.fit(train_input, train_target)"
      ],
      "metadata": {
        "id": "kkRhxjxH1y8f",
        "colab": {
          "base_uri": "https://localhost:8080/",
          "height": 74
        },
        "outputId": "c7ea6479-79ee-43ac-bd2f-7634cd78a8d5"
      },
      "execution_count": null,
      "outputs": [
        {
          "output_type": "execute_result",
          "data": {
            "text/plain": [
              "RandomForestClassifier(n_jobs=-1, random_state=42)"
            ],
            "text/html": [
              "<style>#sk-container-id-1 {color: black;background-color: white;}#sk-container-id-1 pre{padding: 0;}#sk-container-id-1 div.sk-toggleable {background-color: white;}#sk-container-id-1 label.sk-toggleable__label {cursor: pointer;display: block;width: 100%;margin-bottom: 0;padding: 0.3em;box-sizing: border-box;text-align: center;}#sk-container-id-1 label.sk-toggleable__label-arrow:before {content: \"▸\";float: left;margin-right: 0.25em;color: #696969;}#sk-container-id-1 label.sk-toggleable__label-arrow:hover:before {color: black;}#sk-container-id-1 div.sk-estimator:hover label.sk-toggleable__label-arrow:before {color: black;}#sk-container-id-1 div.sk-toggleable__content {max-height: 0;max-width: 0;overflow: hidden;text-align: left;background-color: #f0f8ff;}#sk-container-id-1 div.sk-toggleable__content pre {margin: 0.2em;color: black;border-radius: 0.25em;background-color: #f0f8ff;}#sk-container-id-1 input.sk-toggleable__control:checked~div.sk-toggleable__content {max-height: 200px;max-width: 100%;overflow: auto;}#sk-container-id-1 input.sk-toggleable__control:checked~label.sk-toggleable__label-arrow:before {content: \"▾\";}#sk-container-id-1 div.sk-estimator input.sk-toggleable__control:checked~label.sk-toggleable__label {background-color: #d4ebff;}#sk-container-id-1 div.sk-label input.sk-toggleable__control:checked~label.sk-toggleable__label {background-color: #d4ebff;}#sk-container-id-1 input.sk-hidden--visually {border: 0;clip: rect(1px 1px 1px 1px);clip: rect(1px, 1px, 1px, 1px);height: 1px;margin: -1px;overflow: hidden;padding: 0;position: absolute;width: 1px;}#sk-container-id-1 div.sk-estimator {font-family: monospace;background-color: #f0f8ff;border: 1px dotted black;border-radius: 0.25em;box-sizing: border-box;margin-bottom: 0.5em;}#sk-container-id-1 div.sk-estimator:hover {background-color: #d4ebff;}#sk-container-id-1 div.sk-parallel-item::after {content: \"\";width: 100%;border-bottom: 1px solid gray;flex-grow: 1;}#sk-container-id-1 div.sk-label:hover label.sk-toggleable__label {background-color: #d4ebff;}#sk-container-id-1 div.sk-serial::before {content: \"\";position: absolute;border-left: 1px solid gray;box-sizing: border-box;top: 0;bottom: 0;left: 50%;z-index: 0;}#sk-container-id-1 div.sk-serial {display: flex;flex-direction: column;align-items: center;background-color: white;padding-right: 0.2em;padding-left: 0.2em;position: relative;}#sk-container-id-1 div.sk-item {position: relative;z-index: 1;}#sk-container-id-1 div.sk-parallel {display: flex;align-items: stretch;justify-content: center;background-color: white;position: relative;}#sk-container-id-1 div.sk-item::before, #sk-container-id-1 div.sk-parallel-item::before {content: \"\";position: absolute;border-left: 1px solid gray;box-sizing: border-box;top: 0;bottom: 0;left: 50%;z-index: -1;}#sk-container-id-1 div.sk-parallel-item {display: flex;flex-direction: column;z-index: 1;position: relative;background-color: white;}#sk-container-id-1 div.sk-parallel-item:first-child::after {align-self: flex-end;width: 50%;}#sk-container-id-1 div.sk-parallel-item:last-child::after {align-self: flex-start;width: 50%;}#sk-container-id-1 div.sk-parallel-item:only-child::after {width: 0;}#sk-container-id-1 div.sk-dashed-wrapped {border: 1px dashed gray;margin: 0 0.4em 0.5em 0.4em;box-sizing: border-box;padding-bottom: 0.4em;background-color: white;}#sk-container-id-1 div.sk-label label {font-family: monospace;font-weight: bold;display: inline-block;line-height: 1.2em;}#sk-container-id-1 div.sk-label-container {text-align: center;}#sk-container-id-1 div.sk-container {/* jupyter's `normalize.less` sets `[hidden] { display: none; }` but bootstrap.min.css set `[hidden] { display: none !important; }` so we also need the `!important` here to be able to override the default hidden behavior on the sphinx rendered scikit-learn.org. See: https://github.com/scikit-learn/scikit-learn/issues/21755 */display: inline-block !important;position: relative;}#sk-container-id-1 div.sk-text-repr-fallback {display: none;}</style><div id=\"sk-container-id-1\" class=\"sk-top-container\"><div class=\"sk-text-repr-fallback\"><pre>RandomForestClassifier(n_jobs=-1, random_state=42)</pre><b>In a Jupyter environment, please rerun this cell to show the HTML representation or trust the notebook. <br />On GitHub, the HTML representation is unable to render, please try loading this page with nbviewer.org.</b></div><div class=\"sk-container\" hidden><div class=\"sk-item\"><div class=\"sk-estimator sk-toggleable\"><input class=\"sk-toggleable__control sk-hidden--visually\" id=\"sk-estimator-id-1\" type=\"checkbox\" checked><label for=\"sk-estimator-id-1\" class=\"sk-toggleable__label sk-toggleable__label-arrow\">RandomForestClassifier</label><div class=\"sk-toggleable__content\"><pre>RandomForestClassifier(n_jobs=-1, random_state=42)</pre></div></div></div></div></div>"
            ]
          },
          "metadata": {},
          "execution_count": 10
        }
      ]
    },
    {
      "cell_type": "code",
      "source": [
        "rf.score(train_input, train_target)"
      ],
      "metadata": {
        "id": "QNXNfz-h2zfl",
        "colab": {
          "base_uri": "https://localhost:8080/"
        },
        "outputId": "6a37c5a0-77a6-4216-cd41-968747f32292"
      },
      "execution_count": null,
      "outputs": [
        {
          "output_type": "execute_result",
          "data": {
            "text/plain": [
              "0.996921300750433"
            ]
          },
          "metadata": {},
          "execution_count": 11
        }
      ]
    },
    {
      "cell_type": "code",
      "source": [
        "rf.score(test_input, test_target)"
      ],
      "metadata": {
        "id": "IWbw92jg280d",
        "colab": {
          "base_uri": "https://localhost:8080/"
        },
        "outputId": "a097ab00-a539-4e11-9315-3f24a0edb40f"
      },
      "execution_count": null,
      "outputs": [
        {
          "output_type": "execute_result",
          "data": {
            "text/plain": [
              "0.8892307692307693"
            ]
          },
          "metadata": {},
          "execution_count": 12
        }
      ]
    },
    {
      "cell_type": "markdown",
      "source": [
        "위의 값은 아래와 같이 얻은 것이다."
      ],
      "metadata": {
        "id": "skLdzHl_AXQY"
      }
    },
    {
      "cell_type": "code",
      "source": [
        "pred = rf.predict(test_input)\n",
        "sum(test_target == pred)/len(test_target)"
      ],
      "metadata": {
        "id": "rWe6W9_V9i5G",
        "colab": {
          "base_uri": "https://localhost:8080/"
        },
        "outputId": "b8be0651-2579-4f66-8cbb-db8a14951b27"
      },
      "execution_count": null,
      "outputs": [
        {
          "output_type": "execute_result",
          "data": {
            "text/plain": [
              "0.8892307692307693"
            ]
          },
          "metadata": {},
          "execution_count": 13
        }
      ]
    },
    {
      "cell_type": "markdown",
      "source": [
        "과대적합이 생겼다. 랜덤 포레스트가 학습 과정에서 너무 많은 노드를 가진 복잡한 트리를 만들었기 때문일 것이다. `max_depth`를 제한해보자. 과대적합이 상당히 해소될 것이다."
      ],
      "metadata": {
        "id": "TLtWfBFJl7_T"
      }
    },
    {
      "cell_type": "code",
      "source": [
        "rf1 = RandomForestClassifier(random_state=42, n_jobs = -1, max_depth = 8)\n",
        "rf1.fit(train_input, train_target)\n",
        "print(rf1.score(train_input, train_target), rf1.score(test_input, test_target))"
      ],
      "metadata": {
        "id": "Z8wIM-Xk-a-z",
        "colab": {
          "base_uri": "https://localhost:8080/"
        },
        "outputId": "fee39a1a-f9f6-4f43-fb68-92a4b9f028e2"
      },
      "execution_count": null,
      "outputs": [
        {
          "output_type": "stream",
          "name": "stdout",
          "text": [
            "0.8970559938426015 0.8715384615384615\n"
          ]
        }
      ]
    },
    {
      "cell_type": "markdown",
      "source": [
        "`max_depth = 8`인 결정트리 분류와 단순 비교해보면 랜덤포레스트의 경우 훈련데이터에서의 성능은 거의 낮추지 않으면서 테스트데이터에서의 성능을 높였음을 알 수 있다."
      ],
      "metadata": {
        "id": "4qS2E0zZDCnV"
      }
    },
    {
      "cell_type": "code",
      "source": [
        "from sklearn.tree import DecisionTreeClassifier\n",
        "dt = DecisionTreeClassifier(max_depth = 8, random_state = 42)\n",
        "dt.fit(train_input, train_target)\n",
        "print(dt.score(train_input, train_target), dt.score(test_input, test_target))"
      ],
      "metadata": {
        "id": "Bzio9VCaDCzi",
        "colab": {
          "base_uri": "https://localhost:8080/"
        },
        "outputId": "6147413b-3936-4303-8d4f-b74bbdadff22"
      },
      "execution_count": null,
      "outputs": [
        {
          "output_type": "stream",
          "name": "stdout",
          "text": [
            "0.9003271117952665 0.8584615384615385\n"
          ]
        }
      ]
    },
    {
      "cell_type": "markdown",
      "source": [],
      "metadata": {
        "id": "ScW5cdxTngvC"
      }
    },
    {
      "cell_type": "markdown",
      "source": [
        "교차검증으로 train, test data에서 random forest 분류의 성능을 다시 알아보자."
      ],
      "metadata": {
        "id": "R2SSRh-R-UFh"
      }
    },
    {
      "cell_type": "code",
      "execution_count": null,
      "metadata": {
        "id": "JDKQudr7_8nu"
      },
      "outputs": [],
      "source": [
        "from sklearn.model_selection import cross_validate\n",
        "scores = cross_validate(rf, train_input, train_target, return_train_score=True, n_jobs=-1)"
      ]
    },
    {
      "cell_type": "markdown",
      "source": [
        "`return_train_score=True` 라고 지정하면 각 교차검증 단계에서 train, test data에서의 성능을 출력할 수 있다."
      ],
      "metadata": {
        "id": "XqVveNVi3sZ5"
      }
    },
    {
      "cell_type": "code",
      "source": [
        "scores"
      ],
      "metadata": {
        "id": "sAh3DhCjmoCz",
        "colab": {
          "base_uri": "https://localhost:8080/"
        },
        "outputId": "7fbc8eba-dda3-44d3-8283-fa950282607f"
      },
      "execution_count": null,
      "outputs": [
        {
          "output_type": "execute_result",
          "data": {
            "text/plain": [
              "{'fit_time': array([0.64553094, 0.65907335, 0.90379262, 0.76714873, 0.96494532]),\n",
              " 'score_time': array([0.04867649, 0.04650402, 0.12936759, 0.09556246, 0.07222581]),\n",
              " 'test_score': array([0.88461538, 0.88942308, 0.90279115, 0.88931665, 0.88642926]),\n",
              " 'train_score': array([0.9971133 , 0.99663219, 0.9978355 , 0.9973545 , 0.9978355 ])}"
            ]
          },
          "metadata": {},
          "execution_count": 17
        }
      ]
    },
    {
      "cell_type": "code",
      "source": [
        "print(np.mean(scores['train_score']), np.mean(scores['test_score']))"
      ],
      "metadata": {
        "id": "6j7CuOUvmu5Z",
        "colab": {
          "base_uri": "https://localhost:8080/"
        },
        "outputId": "dea0373e-edee-4b35-8bf1-fadaeddab9e2"
      },
      "execution_count": null,
      "outputs": [
        {
          "output_type": "stream",
          "name": "stdout",
          "text": [
            "0.9973541965122431 0.8905151032797809\n"
          ]
        }
      ]
    },
    {
      "cell_type": "markdown",
      "source": [
        "역시 앞의 랜덤포레스트 학습결과와 마찬가지로 훈련 데이터에서 과대적합이 일어났다. 여기서는 일단 그대로 진행하자.\n",
        "\n",
        "random forest는 의사결정나무를 기반으로 하기 때문에 DecisionTreeClassifier에서 사용했던 parameter들을 그대로 이용할 수 있다. 아래 코드에서는 feature 변수의 중요도를 알아보는 `feature_importances_` 속성을 예로 들고 있다."
      ],
      "metadata": {
        "id": "QI6zmbcfmyjp"
      }
    },
    {
      "cell_type": "markdown",
      "source": [
        "변수는 알콜도수, 당도, pH 순서다."
      ],
      "metadata": {
        "id": "NwA8bVDAngKw"
      }
    },
    {
      "cell_type": "code",
      "execution_count": null,
      "metadata": {
        "id": "XYDbzXNLG8fK",
        "colab": {
          "base_uri": "https://localhost:8080/"
        },
        "outputId": "00f8f1ac-08f7-47b7-adc4-28c381e77c39"
      },
      "outputs": [
        {
          "output_type": "stream",
          "name": "stdout",
          "text": [
            "[0.23167441 0.50039841 0.26792718]\n"
          ]
        }
      ],
      "source": [
        "rf.fit(train_input, train_target)\n",
        "print(rf.feature_importances_)"
      ]
    },
    {
      "cell_type": "markdown",
      "source": [
        "* **참고**\n",
        "\n",
        "  한편, random forest가 bootstrap 방법으로 각 트리의 훈련 데이터를 랜덤하게 선택하기 때문에 100개의 트리를 훈련한다 하더라도 훈련에 쓰이지 않는 데이터도 생긴다. 이런 데이터를 **OOB(out-of-bag) sample**이라고 하는데 훈련에 사용하지 않았기 때문에 훈련한 모델의 성능을 평가하는 test data로 이용할 수 있다."
      ],
      "metadata": {
        "id": "zXxnieXhnvqZ"
      }
    },
    {
      "cell_type": "code",
      "execution_count": null,
      "metadata": {
        "id": "oMc06S1Fa_A-",
        "colab": {
          "base_uri": "https://localhost:8080/"
        },
        "outputId": "07dfd1ca-b610-4b42-d405-98a1ad74bdc1"
      },
      "outputs": [
        {
          "output_type": "stream",
          "name": "stdout",
          "text": [
            "0.8934000384837406\n"
          ]
        }
      ],
      "source": [
        "rf = RandomForestClassifier(oob_score=True, n_jobs=-1, random_state=42)\n",
        "\n",
        "rf.fit(train_input, train_target)\n",
        "print(rf.oob_score_)"
      ]
    },
    {
      "cell_type": "markdown",
      "source": [
        "* 퀴즈 : 결정트리처럼 랜덤포레스트 모델을 그림으로 그릴 수 있을끼?"
      ],
      "metadata": {
        "id": "QQBCMIyBAxQu"
      }
    },
    {
      "cell_type": "markdown",
      "metadata": {
        "id": "KdrVoeQZRU14"
      },
      "source": [
        "### 3) 엑스트라트리"
      ]
    },
    {
      "cell_type": "markdown",
      "source": [
        "'Extra trees'는 'extremely randomized trees'를 말한다. 이 방법은 랜덤포레스트와 비슷한 방법인데 부트스트랩 샘플링을 이용하지 않는 점이 다르다. 또한 노드 분할 때 최적 분할 기준을 찾는 대신 랜덤하게 분할하는 점이 다르다.\n",
        "\n",
        "이런 방법을 왜 쓸까? <u>노드 분할 때 최적 기준을 찾지 않기 때문에 시간을 줄일 수 있기 때문</u>이다."
      ],
      "metadata": {
        "id": "pkJR0Lw35tS6"
      }
    },
    {
      "cell_type": "markdown",
      "source": [
        "엑스트라 트리를 이용한 분류 학습을 위해서는 사이킷런의 `ensemble` 모듈 안에 있는 `ExtraTreesClassifier` 클래스를 이용하면 된다."
      ],
      "metadata": {
        "id": "eDzU3CED6x2H"
      }
    },
    {
      "cell_type": "code",
      "execution_count": null,
      "metadata": {
        "id": "noMLdywdOGrE",
        "colab": {
          "base_uri": "https://localhost:8080/"
        },
        "outputId": "b64ce8ea-0f0f-46c3-c360-93e0e06dc31c"
      },
      "outputs": [
        {
          "output_type": "stream",
          "name": "stdout",
          "text": [
            "0.9974503966084433 0.8887848893166506\n"
          ]
        }
      ],
      "source": [
        "from sklearn.ensemble import ExtraTreesClassifier\n",
        "\n",
        "et = ExtraTreesClassifier(n_jobs=-1, random_state=42)\n",
        "scores = cross_validate(et, train_input, train_target, return_train_score=True, n_jobs=-1)\n",
        "\n",
        "print(np.mean(scores['train_score']), np.mean(scores['test_score']))"
      ]
    },
    {
      "cell_type": "code",
      "execution_count": null,
      "metadata": {
        "id": "HnB0_mBqfcXL"
      },
      "outputs": [],
      "source": [
        "et.fit(train_input, train_target)\n",
        "print(et.feature_importances_)"
      ]
    },
    {
      "cell_type": "markdown",
      "metadata": {
        "id": "csKxnaxeRX8s"
      },
      "source": [
        "### 4) 그레이디언트 부스팅"
      ]
    },
    {
      "cell_type": "markdown",
      "source": [
        "#### a) 부스팅(boosting)\n",
        "\n",
        "부스팅 방법은 약한 학습기를 가지고 차례로 학습하고 예측하면서 오류가 생긴 데이터에 가중치를 부여하여 다음 학습 때 학습을 더 잘할 수 있도록 하는 방법이다. 대표적인 부스팅 방법으로 에이다부스트(AdaBoost, Adaptive Boost)와 그래디언트 부스트(Gradient Boost)가 있다.\n",
        "\n",
        "  그래디언트 부스트 알고리즘은 가중치 값을 오류의 크기에 따라 update하는데, 이때 쓰는 방법이 경사하강법(Gradient Descent)이다. 즉 부스팅 방법에서는 이미 만든 앙상블모델의 오차를 수정하면서 새로운 트리가 앙상블에 추가된다."
      ],
      "metadata": {
        "id": "3IuHfAeX6-sP"
      }
    },
    {
      "cell_type": "markdown",
      "source": [
        "#### b) sklearn의 GradientBoostingClassifier\n",
        "\n",
        "과대적합을 피하기 위해 depth가 3인 얕은 트리를 100개 이용하는 부스팅 방법이다. 경사하강법의 속도를 조절하는 파리미터로 '학습률(learning rate, 기본값은 0.1)을 지정할 수 있다."
      ],
      "metadata": {
        "id": "8GIhkwpiCxdt"
      }
    },
    {
      "cell_type": "code",
      "execution_count": null,
      "metadata": {
        "id": "_IlNEFkaNsoG",
        "colab": {
          "base_uri": "https://localhost:8080/"
        },
        "outputId": "77f599c2-40f2-4672-a438-36b6a1de010f"
      },
      "outputs": [
        {
          "output_type": "stream",
          "name": "stdout",
          "text": [
            "0.8881086892152563 0.8720430147331015\n"
          ]
        }
      ],
      "source": [
        "from sklearn.ensemble import GradientBoostingClassifier\n",
        "\n",
        "gb = GradientBoostingClassifier(random_state=42)\n",
        "scores = cross_validate(gb, train_input, train_target, return_train_score=True, n_jobs=-1)\n",
        "\n",
        "print(np.mean(scores['train_score']), np.mean(scores['test_score']))"
      ]
    },
    {
      "cell_type": "markdown",
      "source": [
        "랜덤포레스트의 결과와 비교해보면 과대적합이 많이 줄어든 것을 확인할 수 있다. 트리 수와 학습률을 바꿔보자."
      ],
      "metadata": {
        "id": "AcWPrmJ2EYgF"
      }
    },
    {
      "cell_type": "code",
      "source": [
        "gb = GradientBoostingClassifier(learning_rate=0.2, random_state=42)\n",
        "scores = cross_validate(gb, train_input, train_target, return_train_score=True, n_jobs=-1)\n",
        "\n",
        "print(np.mean(scores['train_score']), np.mean(scores['test_score']))"
      ],
      "metadata": {
        "id": "iPwohEVAoZaH",
        "colab": {
          "base_uri": "https://localhost:8080/"
        },
        "outputId": "6607cf5c-7eb4-4dfa-eca1-ca853e07be62"
      },
      "execution_count": null,
      "outputs": [
        {
          "output_type": "stream",
          "name": "stdout",
          "text": [
            "0.8984029326102936 0.8731979714222255\n"
          ]
        }
      ]
    },
    {
      "cell_type": "code",
      "execution_count": null,
      "metadata": {
        "id": "pNpeS8EWpeEi",
        "colab": {
          "base_uri": "https://localhost:8080/"
        },
        "outputId": "a8cb090c-06c2-4abe-ab2f-00659ac556e3"
      },
      "outputs": [
        {
          "output_type": "stream",
          "name": "stdout",
          "text": [
            "0.9215896435285418 0.8749283704745687\n"
          ]
        }
      ],
      "source": [
        "gb = GradientBoostingClassifier(n_estimators=500, random_state=42)\n",
        "scores = cross_validate(gb, train_input, train_target, return_train_score=True, n_jobs=-1)\n",
        "\n",
        "print(np.mean(scores['train_score']), np.mean(scores['test_score']))"
      ]
    },
    {
      "cell_type": "code",
      "source": [
        "gb = GradientBoostingClassifier(n_estimators=500, learning_rate=0.2, random_state=42)\n",
        "scores = cross_validate(gb, train_input, train_target, return_train_score=True, n_jobs=-1)\n",
        "\n",
        "print(np.mean(scores['train_score']), np.mean(scores['test_score']))"
      ],
      "metadata": {
        "id": "dsgi22J3ovi9",
        "colab": {
          "base_uri": "https://localhost:8080/"
        },
        "outputId": "dd688c40-f4ac-4e14-a65f-e7d9d961397e"
      },
      "execution_count": null,
      "outputs": [
        {
          "output_type": "stream",
          "name": "stdout",
          "text": [
            "0.9464595437171814 0.8780082549788999\n"
          ]
        }
      ]
    },
    {
      "cell_type": "code",
      "execution_count": null,
      "metadata": {
        "id": "qD6iWVsGqCAE"
      },
      "outputs": [],
      "source": [
        "gb.fit(train_input, train_target)\n",
        "print(gb.feature_importances_)"
      ]
    },
    {
      "cell_type": "markdown",
      "source": [
        "세 변수 가운데 '당도'의 중요도가 더 높아졌다."
      ],
      "metadata": {
        "id": "ingaKOuNEwaN"
      }
    },
    {
      "cell_type": "markdown",
      "source": [
        "#### c) Gradient Boosting의 단점\n",
        "\n",
        "속도가 느리다. 많은 트리를 하나씩 추가해서 앙상블해나가는 방법이기 때문에 특히 규모가 큰 데이터를 처리할 때 속도가 문제가 된다."
      ],
      "metadata": {
        "id": "zMbo3ovEKc7V"
      }
    },
    {
      "cell_type": "markdown",
      "metadata": {
        "id": "BthW_II9RbLa"
      },
      "source": [
        "### 5) 히스토그램 기반 부스팅"
      ]
    },
    {
      "cell_type": "markdown",
      "source": [
        "#### a) histogram-based boosting"
      ],
      "metadata": {
        "id": "95br9blAUsup"
      }
    },
    {
      "cell_type": "markdown",
      "source": [
        "[사이킷런 설명서](https://scikit-learn.org/stable/modules/ensemble.html#histogram-based-gradient-boosting)를 잠깐 보고 시작하자.\n",
        "\n",
        "대규모 데이터에서 학습 속도가 매우 빠른 알고리즘이라고 설명하고 있다. 또한 교재(0. 272)에서는 이 방법이 '정형 데이터를 다루는 머신러닝 알고리즘 중에서 가장 인기가 높다'고 평가하고 있다."
      ],
      "metadata": {
        "id": "5wSVjvXDHYhB"
      }
    },
    {
      "cell_type": "markdown",
      "source": [
        "#### b) binning(discretization, categorization) - histogram"
      ],
      "metadata": {
        "id": "_gZWa4z1U0Xv"
      }
    },
    {
      "cell_type": "markdown",
      "source": [
        "먼저, 히스토그램에 대해 알아보자.\n",
        "\n",
        "* 퀴즈 : 히스토그램은 어떤 데이터에 적용하는 방법인가? 용도는 무엇인가?"
      ],
      "metadata": {
        "id": "5GIxMAXERx3Z"
      }
    },
    {
      "cell_type": "markdown",
      "source": [
        "와인 데이터의 'alcohol' 변수로 연습해보자.\n",
        "\n",
        "* 퀴즈 : 'alcohol' 변수는 연속형인가, 범주형인가?"
      ],
      "metadata": {
        "id": "t2_8VXdLSFFX"
      }
    },
    {
      "cell_type": "code",
      "source": [
        "import matplotlib.pyplot as plt\n",
        "data = wine['alcohol']\n",
        "data.shape"
      ],
      "metadata": {
        "id": "7Wjv975RSR-5",
        "colab": {
          "base_uri": "https://localhost:8080/"
        },
        "outputId": "19748ae0-846d-46f0-f924-331531ea3205"
      },
      "execution_count": null,
      "outputs": [
        {
          "output_type": "execute_result",
          "data": {
            "text/plain": [
              "(6497,)"
            ]
          },
          "metadata": {},
          "execution_count": 26
        }
      ]
    },
    {
      "cell_type": "code",
      "source": [
        "plt.hist(data)\n",
        "plt.show()"
      ],
      "metadata": {
        "id": "Xy0aqjvUSbQo",
        "colab": {
          "base_uri": "https://localhost:8080/",
          "height": 430
        },
        "outputId": "7264f2bb-aa44-4a91-cfad-0e12cc30e59f"
      },
      "execution_count": null,
      "outputs": [
        {
          "output_type": "display_data",
          "data": {
            "text/plain": [
              "<Figure size 640x480 with 1 Axes>"
            ],
            "image/png": "[encoded data removed]"
          },
          "metadata": {}
        }
      ]
    },
    {
      "cell_type": "markdown",
      "source": [
        "기본 범주 수는 10개다. 바꿔보자."
      ],
      "metadata": {
        "id": "bEj33YXbTHZJ"
      }
    },
    {
      "cell_type": "code",
      "source": [
        "plt.hist(data, bins=30)\n",
        "plt.show()"
      ],
      "metadata": {
        "id": "p7mA2SlISrtD",
        "colab": {
          "base_uri": "https://localhost:8080/",
          "height": 430
        },
        "outputId": "540f16b0-e9fd-48a6-cbd0-f1d224f00983"
      },
      "execution_count": null,
      "outputs": [
        {
          "output_type": "display_data",
          "data": {
            "text/plain": [
              "<Figure size 640x480 with 1 Axes>"
            ],
            "image/png": "[encoded data removed]"
          },
          "metadata": {}
        }
      ]
    },
    {
      "cell_type": "markdown",
      "source": [
        "* 퀴즈 : 'wine' 데이터의 '당도(sugar)' 변수에 대해서도 히스토그램을 그려서 분포 모양을 설명해보라. 혹시 적절한 변환방법이 있다면?"
      ],
      "metadata": {
        "id": "x1ExfKv5TQ0K"
      }
    },
    {
      "cell_type": "code",
      "source": [
        "data = wine['sugar']\n",
        "plt.hist(data)\n",
        "plt.show()"
      ],
      "metadata": {
        "colab": {
          "base_uri": "https://localhost:8080/",
          "height": 430
        },
        "id": "gqI9Q1EKrUak",
        "outputId": "7041830c-bdb5-4d55-d557-973373cde1c9"
      },
      "execution_count": null,
      "outputs": [
        {
          "output_type": "display_data",
          "data": {
            "text/plain": [
              "<Figure size 640x480 with 1 Axes>"
            ],
            "image/png": "[encoded data removed]"
          },
          "metadata": {}
        }
      ]
    },
    {
      "cell_type": "code",
      "source": [
        "wine.describe()"
      ],
      "metadata": {
        "id": "8U2VbvaXrsjD"
      },
      "execution_count": null,
      "outputs": []
    },
    {
      "cell_type": "code",
      "source": [
        "plt.hist(data, bins =20)\n",
        "plt.xlim((0, 20))\n",
        "plt.show()"
      ],
      "metadata": {
        "colab": {
          "base_uri": "https://localhost:8080/",
          "height": 430
        },
        "id": "c2hz490FsHRx",
        "outputId": "f4f55185-bc9a-4157-af11-ad57a474f653"
      },
      "execution_count": null,
      "outputs": [
        {
          "output_type": "display_data",
          "data": {
            "text/plain": [
              "<Figure size 640x480 with 1 Axes>"
            ],
            "image/png": "[encoded data removed]"
          },
          "metadata": {}
        }
      ]
    },
    {
      "cell_type": "markdown",
      "source": [
        "#### c) 대규모 데이터와 binning\n",
        "\n",
        "데이터 수가 수만개가 넘는다고 해보자. 즉 각 피처 변수가 수만 개가 넘는 다른 값을 갖는다고 해보자. 트리를 만들려면 피처 변수의 값을 수만 번 비교해서 불순도를 가장 크게 줄일 수 있는 기준을 찾아야한다. 랜덤포레스트든 그래디언트 부스팅이든 수백개의 트리를 만드는데 각 트리의 노드를 분할할 때마다 그런 작업을 반복해야한다."
      ],
      "metadata": {
        "id": "-RyBbrAuVEeG"
      }
    },
    {
      "cell_type": "markdown",
      "source": [
        "\n",
        "\n",
        "이럴 때 비교할 값들의 수를 줄이는 방법은? 연속형 분포를 이산형 분포로 바꾸는 것이다. 즉 binning(discretization)을 이용해서 수만개 값을 갖는 연속형 데이터를 훨씬 적은 수의 범주형 데이터로 바꾸고 그 범주를 가지고 노드를 분할하면 되겠다."
      ],
      "metadata": {
        "id": "Ae2CjJvbZ0Ci"
      }
    },
    {
      "cell_type": "markdown",
      "source": [
        "#### d) HistGradientBoostingClassifier\n",
        "\n",
        "길다란 이름을 가진 클래스 `HistGradientBoostingClassifier`는 gradient boosting에 binnig, 즉 연속형 데이터를 이산형 데이터로 바꾸는 방법을 적용한 것이다. `max_bins`의 기본값은 255인데 Na, 즉 누락값을 위한 bin도 만들기 때문에 bin 수는 모두 256개다. 트리의 수를 지정하는 `n_estimators` 대신 최대 반복 수를 뜻하는 `max_iter` 파라미터를 사용한다."
      ],
      "metadata": {
        "id": "SDThlzFtaxiO"
      }
    },
    {
      "cell_type": "markdown",
      "source": [
        "#### e) wine 분류"
      ],
      "metadata": {
        "id": "uCL7jjXGcHHT"
      }
    },
    {
      "cell_type": "code",
      "execution_count": null,
      "metadata": {
        "id": "_3Ct_NNWQbdA",
        "colab": {
          "base_uri": "https://localhost:8080/",
          "height": 74
        },
        "outputId": "c83c2d2e-14d4-4b49-e40e-da4a4be6bb79"
      },
      "outputs": [
        {
          "output_type": "execute_result",
          "data": {
            "text/plain": [
              "HistGradientBoostingClassifier(random_state=42)"
            ],
            "text/html": [
              "<style>#sk-container-id-2 {color: black;background-color: white;}#sk-container-id-2 pre{padding: 0;}#sk-container-id-2 div.sk-toggleable {background-color: white;}#sk-container-id-2 label.sk-toggleable__label {cursor: pointer;display: block;width: 100%;margin-bottom: 0;padding: 0.3em;box-sizing: border-box;text-align: center;}#sk-container-id-2 label.sk-toggleable__label-arrow:before {content: \"▸\";float: left;margin-right: 0.25em;color: #696969;}#sk-container-id-2 label.sk-toggleable__label-arrow:hover:before {color: black;}#sk-container-id-2 div.sk-estimator:hover label.sk-toggleable__label-arrow:before {color: black;}#sk-container-id-2 div.sk-toggleable__content {max-height: 0;max-width: 0;overflow: hidden;text-align: left;background-color: #f0f8ff;}#sk-container-id-2 div.sk-toggleable__content pre {margin: 0.2em;color: black;border-radius: 0.25em;background-color: #f0f8ff;}#sk-container-id-2 input.sk-toggleable__control:checked~div.sk-toggleable__content {max-height: 200px;max-width: 100%;overflow: auto;}#sk-container-id-2 input.sk-toggleable__control:checked~label.sk-toggleable__label-arrow:before {content: \"▾\";}#sk-container-id-2 div.sk-estimator input.sk-toggleable__control:checked~label.sk-toggleable__label {background-color: #d4ebff;}#sk-container-id-2 div.sk-label input.sk-toggleable__control:checked~label.sk-toggleable__label {background-color: #d4ebff;}#sk-container-id-2 input.sk-hidden--visually {border: 0;clip: rect(1px 1px 1px 1px);clip: rect(1px, 1px, 1px, 1px);height: 1px;margin: -1px;overflow: hidden;padding: 0;position: absolute;width: 1px;}#sk-container-id-2 div.sk-estimator {font-family: monospace;background-color: #f0f8ff;border: 1px dotted black;border-radius: 0.25em;box-sizing: border-box;margin-bottom: 0.5em;}#sk-container-id-2 div.sk-estimator:hover {background-color: #d4ebff;}#sk-container-id-2 div.sk-parallel-item::after {content: \"\";width: 100%;border-bottom: 1px solid gray;flex-grow: 1;}#sk-container-id-2 div.sk-label:hover label.sk-toggleable__label {background-color: #d4ebff;}#sk-container-id-2 div.sk-serial::before {content: \"\";position: absolute;border-left: 1px solid gray;box-sizing: border-box;top: 0;bottom: 0;left: 50%;z-index: 0;}#sk-container-id-2 div.sk-serial {display: flex;flex-direction: column;align-items: center;background-color: white;padding-right: 0.2em;padding-left: 0.2em;position: relative;}#sk-container-id-2 div.sk-item {position: relative;z-index: 1;}#sk-container-id-2 div.sk-parallel {display: flex;align-items: stretch;justify-content: center;background-color: white;position: relative;}#sk-container-id-2 div.sk-item::before, #sk-container-id-2 div.sk-parallel-item::before {content: \"\";position: absolute;border-left: 1px solid gray;box-sizing: border-box;top: 0;bottom: 0;left: 50%;z-index: -1;}#sk-container-id-2 div.sk-parallel-item {display: flex;flex-direction: column;z-index: 1;position: relative;background-color: white;}#sk-container-id-2 div.sk-parallel-item:first-child::after {align-self: flex-end;width: 50%;}#sk-container-id-2 div.sk-parallel-item:last-child::after {align-self: flex-start;width: 50%;}#sk-container-id-2 div.sk-parallel-item:only-child::after {width: 0;}#sk-container-id-2 div.sk-dashed-wrapped {border: 1px dashed gray;margin: 0 0.4em 0.5em 0.4em;box-sizing: border-box;padding-bottom: 0.4em;background-color: white;}#sk-container-id-2 div.sk-label label {font-family: monospace;font-weight: bold;display: inline-block;line-height: 1.2em;}#sk-container-id-2 div.sk-label-container {text-align: center;}#sk-container-id-2 div.sk-container {/* jupyter's `normalize.less` sets `[hidden] { display: none; }` but bootstrap.min.css set `[hidden] { display: none !important; }` so we also need the `!important` here to be able to override the default hidden behavior on the sphinx rendered scikit-learn.org. See: https://github.com/scikit-learn/scikit-learn/issues/21755 */display: inline-block !important;position: relative;}#sk-container-id-2 div.sk-text-repr-fallback {display: none;}</style><div id=\"sk-container-id-2\" class=\"sk-top-container\"><div class=\"sk-text-repr-fallback\"><pre>HistGradientBoostingClassifier(random_state=42)</pre><b>In a Jupyter environment, please rerun this cell to show the HTML representation or trust the notebook. <br />On GitHub, the HTML representation is unable to render, please try loading this page with nbviewer.org.</b></div><div class=\"sk-container\" hidden><div class=\"sk-item\"><div class=\"sk-estimator sk-toggleable\"><input class=\"sk-toggleable__control sk-hidden--visually\" id=\"sk-estimator-id-2\" type=\"checkbox\" checked><label for=\"sk-estimator-id-2\" class=\"sk-toggleable__label sk-toggleable__label-arrow\">HistGradientBoostingClassifier</label><div class=\"sk-toggleable__content\"><pre>HistGradientBoostingClassifier(random_state=42)</pre></div></div></div></div></div>"
            ]
          },
          "metadata": {},
          "execution_count": 34
        }
      ],
      "source": [
        "from sklearn.ensemble import HistGradientBoostingClassifier\n",
        "\n",
        "hgb = HistGradientBoostingClassifier(random_state=42)\n",
        "hgb.fit(train_input, train_target)"
      ]
    },
    {
      "cell_type": "code",
      "source": [
        "hgb.score(train_input, train_target)"
      ],
      "metadata": {
        "id": "BIU42ut7c-sk",
        "colab": {
          "base_uri": "https://localhost:8080/"
        },
        "outputId": "d6882ad7-5b1f-4f65-e09c-1bca1faddf1a"
      },
      "execution_count": null,
      "outputs": [
        {
          "output_type": "execute_result",
          "data": {
            "text/plain": [
              "0.924956705791803"
            ]
          },
          "metadata": {},
          "execution_count": 35
        }
      ]
    },
    {
      "cell_type": "code",
      "source": [
        "hgb.score(test_input, test_target)"
      ],
      "metadata": {
        "id": "M2Lnkmknc_uI",
        "colab": {
          "base_uri": "https://localhost:8080/"
        },
        "outputId": "ff413618-626c-42f1-a811-787f7145b999"
      },
      "execution_count": null,
      "outputs": [
        {
          "output_type": "execute_result",
          "data": {
            "text/plain": [
              "0.8723076923076923"
            ]
          },
          "metadata": {},
          "execution_count": 36
        }
      ]
    },
    {
      "cell_type": "code",
      "source": [
        "scores = cross_validate(hgb, train_input, train_target, return_train_score=True, n_jobs=-1)\n",
        "print(scores)"
      ],
      "metadata": {
        "id": "vm_NenI2cY6s",
        "colab": {
          "base_uri": "https://localhost:8080/"
        },
        "outputId": "0cb5df71-0c84-4fa0-b0ee-27e40e7fe1ed"
      },
      "execution_count": null,
      "outputs": [
        {
          "output_type": "stream",
          "name": "stdout",
          "text": [
            "{'fit_time': array([0.47600389, 0.49521613, 0.46877742, 0.48106647, 0.3029089 ]), 'score_time': array([0.02088189, 0.01926661, 0.01962018, 0.01942563, 0.01998448]), 'test_score': array([0.87115385, 0.88365385, 0.90279115, 0.86621752, 0.87680462]), 'train_score': array([0.93192206, 0.93216262, 0.92857143, 0.93265993, 0.93554594])}\n"
          ]
        }
      ]
    },
    {
      "cell_type": "code",
      "source": [
        "print(np.mean(scores['train_score']), np.mean(scores['test_score']))"
      ],
      "metadata": {
        "id": "U9DvCkqddjs5",
        "colab": {
          "base_uri": "https://localhost:8080/"
        },
        "outputId": "ef2fb3f3-6e4e-48a8-fa09-8567c6ad13b0"
      },
      "execution_count": null,
      "outputs": [
        {
          "output_type": "stream",
          "name": "stdout",
          "text": [
            "0.9321723946453317 0.8801241948619236\n"
          ]
        }
      ]
    },
    {
      "cell_type": "markdown",
      "source": [
        "* 퀴즈 : train 데이터에서 구한 score값 `hgb.score(train_input, train_target)`과 `np.mean(scores['train_score']`의 값이 다른 이유는 무엇인가?"
      ],
      "metadata": {
        "id": "tG7H14-geTTJ"
      }
    },
    {
      "cell_type": "markdown",
      "source": [
        "#### e) permutation_importance를 이용한 피처 중요도 평가"
      ],
      "metadata": {
        "id": "Y7k1wJJ_hjwB"
      }
    },
    {
      "cell_type": "markdown",
      "source": [
        "교재 273쪽 설명을 읽어보자: \"특성 중요도를 계산하기 위한 permutation_importances() 함수는 <u>특성을 하나씩 랜덤하게 섞어서 모델의 성능이 변화하는지 관찰하여 어떤 특성이 중요한지 계산한다.</u>"
      ],
      "metadata": {
        "id": "RKUEaBf6kNzH"
      }
    },
    {
      "cell_type": "markdown",
      "source": [
        "* 퀴즈 : 이게 대체 무슨 말일까?\n",
        "\n",
        "  힌트 : 학습 모델에서 중요하지 않은 변수는 그 변수가 있으나 없으나 모델의 성능에 별다른 영향을 주지 않을 것이다. 즉 그 변수에 원래 데이터와 다른 값들이 들어가도 별다른 변화가 없을 것이다."
      ],
      "metadata": {
        "id": "xgydJYUnlp-G"
      }
    },
    {
      "cell_type": "markdown",
      "source": [
        "train data에서 계산한 피처 중요도"
      ],
      "metadata": {
        "id": "JMqFS7aDk-kf"
      }
    },
    {
      "cell_type": "code",
      "execution_count": null,
      "metadata": {
        "id": "TvlB0GMTS3hn"
      },
      "outputs": [],
      "source": [
        "from sklearn.inspection import permutation_importance\n",
        "\n",
        "hgb.fit(train_input, train_target)\n",
        "result = permutation_importance(hgb, train_input, train_target, n_repeats=10,\n",
        "                                random_state=42, n_jobs=-1)\n",
        "print(result.importances_mean)"
      ]
    },
    {
      "cell_type": "markdown",
      "source": [
        "test data에서 계산한 피처 중요도"
      ],
      "metadata": {
        "id": "IHM6hoQ2lDWo"
      }
    },
    {
      "cell_type": "code",
      "execution_count": null,
      "metadata": {
        "id": "S8FfxInn-xBQ"
      },
      "outputs": [],
      "source": [
        "result = permutation_importance(hgb, test_input, test_target, n_repeats=10,\n",
        "                                random_state=42, n_jobs=-1)\n",
        "print(result.importances_mean)"
      ]
    },
    {
      "cell_type": "markdown",
      "metadata": {
        "id": "8fz_FrezBezR"
      },
      "source": [
        "### 6) XGBoost, LightGBM"
      ]
    },
    {
      "cell_type": "markdown",
      "source": [
        "마지막으로 사이킷런 바깥에 있는 부스팅 라이브러리 몇 개를 살펴보자.\n",
        "\n",
        "`xgboost`와 `lightgbm`이다."
      ],
      "metadata": {
        "id": "aBG_kFmym-UM"
      }
    },
    {
      "cell_type": "markdown",
      "source": [
        "* 엑스트라 그래디언트 부스팅"
      ],
      "metadata": {
        "id": "S3F6PYodmbMw"
      }
    },
    {
      "cell_type": "code",
      "execution_count": null,
      "metadata": {
        "id": "YBYLvOiV6rga"
      },
      "outputs": [],
      "source": [
        "from xgboost import XGBClassifier\n",
        "\n",
        "xgb = XGBClassifier(tree_method='hist', random_state=42)\n",
        "scores = cross_validate(xgb, train_input, train_target, return_train_score=True, n_jobs=-1)\n",
        "\n",
        "print(np.mean(scores['train_score']), np.mean(scores['test_score']))"
      ]
    },
    {
      "cell_type": "markdown",
      "metadata": {
        "id": "zl6nh6DOBd-B"
      },
      "source": [
        "* 라이트 그래디언트부스팅"
      ]
    },
    {
      "cell_type": "code",
      "execution_count": null,
      "metadata": {
        "id": "maihlDMP7lmY"
      },
      "outputs": [],
      "source": [
        "from lightgbm import LGBMClassifier\n",
        "\n",
        "lgb = LGBMClassifier(random_state=42)\n",
        "scores = cross_validate(lgb, train_input, train_target, return_train_score=True, n_jobs=-1)\n",
        "\n",
        "print(np.mean(scores['train_score']), np.mean(scores['test_score']))"
      ]
    }
  ]
}